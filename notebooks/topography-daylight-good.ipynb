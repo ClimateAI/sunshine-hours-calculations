{
 "cells": [
  {
   "cell_type": "code",
   "execution_count": 2,
   "id": "e75c43f0-6a29-4550-9164-1b6aaff7212b",
   "metadata": {
    "collapsed": true,
    "jupyter": {
     "outputs_hidden": true
    },
    "tags": []
   },
   "outputs": [
    {
     "name": "stdout",
     "output_type": "stream",
     "text": [
      "Defaulting to user installation because normal site-packages is not writeable\n",
      "Requirement already satisfied: tppss in /home/sagemaker-user/.local/lib/python3.9/site-packages (0.2)\n",
      "Requirement already satisfied: numpy==1.* in /opt/conda/lib/python3.9/site-packages (from tppss) (1.23.5)\n",
      "Requirement already satisfied: python-dateutil==2.* in /opt/conda/lib/python3.9/site-packages (from tppss) (2.8.2)\n",
      "Requirement already satisfied: pyproj==3.* in /opt/conda/lib/python3.9/site-packages (from tppss) (3.5.0)\n",
      "Requirement already satisfied: rasterio==1.* in /opt/conda/lib/python3.9/site-packages (from tppss) (1.3.6)\n",
      "Requirement already satisfied: certifi in /opt/conda/lib/python3.9/site-packages (from pyproj==3.*->tppss) (2023.7.22)\n",
      "Requirement already satisfied: six>=1.5 in /opt/conda/lib/python3.9/site-packages (from python-dateutil==2.*->tppss) (1.16.0)\n",
      "Requirement already satisfied: affine in /opt/conda/lib/python3.9/site-packages (from rasterio==1.*->tppss) (2.4.0)\n",
      "Requirement already satisfied: attrs in /opt/conda/lib/python3.9/site-packages (from rasterio==1.*->tppss) (23.1.0)\n",
      "Requirement already satisfied: click>=4.0 in /opt/conda/lib/python3.9/site-packages (from rasterio==1.*->tppss) (8.1.7)\n",
      "Requirement already satisfied: cligj>=0.5 in /opt/conda/lib/python3.9/site-packages (from rasterio==1.*->tppss) (0.7.2)\n",
      "Requirement already satisfied: snuggs>=1.4.1 in /opt/conda/lib/python3.9/site-packages (from rasterio==1.*->tppss) (1.4.7)\n",
      "Requirement already satisfied: click-plugins in /opt/conda/lib/python3.9/site-packages (from rasterio==1.*->tppss) (1.1.1)\n",
      "Requirement already satisfied: setuptools in /opt/conda/lib/python3.9/site-packages (from rasterio==1.*->tppss) (68.2.2)\n",
      "Requirement already satisfied: pyparsing>=2.1.6 in /opt/conda/lib/python3.9/site-packages (from snuggs>=1.4.1->rasterio==1.*->tppss) (3.1.1)\n"
     ]
    }
   ],
   "source": [
    "!pip install tppss"
   ]
  },
  {
   "cell_type": "code",
   "execution_count": 3,
   "id": "8188f079-0a8a-4cd3-b368-9841a997d708",
   "metadata": {
    "collapsed": true,
    "jupyter": {
     "outputs_hidden": true
    },
    "tags": []
   },
   "outputs": [
    {
     "name": "stdout",
     "output_type": "stream",
     "text": [
      "Defaulting to user installation because normal site-packages is not writeable\n",
      "Requirement already satisfied: gdal in /opt/conda/lib/python3.9/site-packages (3.6.2)\n"
     ]
    }
   ],
   "source": [
    "!pip install gdal"
   ]
  },
  {
   "cell_type": "code",
   "execution_count": 4,
   "id": "2f29d68f-f1ff-487c-951e-0a2aa433d238",
   "metadata": {
    "collapsed": true,
    "jupyter": {
     "outputs_hidden": true
    },
    "tags": []
   },
   "outputs": [
    {
     "name": "stdout",
     "output_type": "stream",
     "text": [
      "Defaulting to user installation because normal site-packages is not writeable\n",
      "Requirement already satisfied: rioxarray in /home/sagemaker-user/.local/lib/python3.9/site-packages (0.15.0)\n",
      "Requirement already satisfied: packaging in /opt/conda/lib/python3.9/site-packages (from rioxarray) (23.2)\n",
      "Requirement already satisfied: rasterio>=1.2 in /opt/conda/lib/python3.9/site-packages (from rioxarray) (1.3.6)\n",
      "Requirement already satisfied: xarray>=0.17 in /opt/conda/lib/python3.9/site-packages (from rioxarray) (2023.9.0)\n",
      "Requirement already satisfied: pyproj>=2.2 in /opt/conda/lib/python3.9/site-packages (from rioxarray) (3.5.0)\n",
      "Requirement already satisfied: numpy>=1.21 in /opt/conda/lib/python3.9/site-packages (from rioxarray) (1.23.5)\n",
      "Requirement already satisfied: certifi in /opt/conda/lib/python3.9/site-packages (from pyproj>=2.2->rioxarray) (2023.7.22)\n",
      "Requirement already satisfied: affine in /opt/conda/lib/python3.9/site-packages (from rasterio>=1.2->rioxarray) (2.4.0)\n",
      "Requirement already satisfied: attrs in /opt/conda/lib/python3.9/site-packages (from rasterio>=1.2->rioxarray) (23.1.0)\n",
      "Requirement already satisfied: click>=4.0 in /opt/conda/lib/python3.9/site-packages (from rasterio>=1.2->rioxarray) (8.1.7)\n",
      "Requirement already satisfied: cligj>=0.5 in /opt/conda/lib/python3.9/site-packages (from rasterio>=1.2->rioxarray) (0.7.2)\n",
      "Requirement already satisfied: snuggs>=1.4.1 in /opt/conda/lib/python3.9/site-packages (from rasterio>=1.2->rioxarray) (1.4.7)\n",
      "Requirement already satisfied: click-plugins in /opt/conda/lib/python3.9/site-packages (from rasterio>=1.2->rioxarray) (1.1.1)\n",
      "Requirement already satisfied: setuptools in /opt/conda/lib/python3.9/site-packages (from rasterio>=1.2->rioxarray) (68.2.2)\n",
      "Requirement already satisfied: pandas>=1.4 in /opt/conda/lib/python3.9/site-packages (from xarray>=0.17->rioxarray) (2.1.1)\n",
      "Requirement already satisfied: python-dateutil>=2.8.2 in /opt/conda/lib/python3.9/site-packages (from pandas>=1.4->xarray>=0.17->rioxarray) (2.8.2)\n",
      "Requirement already satisfied: pytz>=2020.1 in /opt/conda/lib/python3.9/site-packages (from pandas>=1.4->xarray>=0.17->rioxarray) (2023.3.post1)\n",
      "Requirement already satisfied: tzdata>=2022.1 in /opt/conda/lib/python3.9/site-packages (from pandas>=1.4->xarray>=0.17->rioxarray) (2023.3)\n",
      "Requirement already satisfied: pyparsing>=2.1.6 in /opt/conda/lib/python3.9/site-packages (from snuggs>=1.4.1->rasterio>=1.2->rioxarray) (3.1.1)\n",
      "Requirement already satisfied: six>=1.5 in /opt/conda/lib/python3.9/site-packages (from python-dateutil>=2.8.2->pandas>=1.4->xarray>=0.17->rioxarray) (1.16.0)\n"
     ]
    }
   ],
   "source": [
    "!pip install rioxarray"
   ]
  },
  {
   "cell_type": "code",
   "execution_count": 5,
   "id": "3d26cd97-076f-4bc1-a362-6cefc6160a74",
   "metadata": {
    "tags": []
   },
   "outputs": [
    {
     "name": "stdout",
     "output_type": "stream",
     "text": [
      "Defaulting to user installation because normal site-packages is not writeable\n",
      "Requirement already satisfied: timeout_decorator in /home/sagemaker-user/.local/lib/python3.9/site-packages (0.5.0)\n"
     ]
    }
   ],
   "source": [
    "!pip install timeout_decorator"
   ]
  },
  {
   "cell_type": "code",
   "execution_count": 2,
   "id": "ac6a8ec5-b987-40c0-84b1-bc6c7e81a6dd",
   "metadata": {
    "tags": []
   },
   "outputs": [],
   "source": [
    "from datetime import date\n",
    "from tppss import horizon, sunrise_sunset, sunrise_sunset_year\n",
    "from dateutil import tz as dutz\n",
    "import rasterio\n",
    "from rasterio.plot import show\n",
    "import matplotlib.pyplot as plt\n",
    "from osgeo import gdal\n",
    "import rioxarray\n",
    "import numpy as np\n",
    "import xarray as xr\n",
    "from tqdm import tqdm\n",
    "# import concurrent.futures\n",
    "from functools import partial\n",
    "import time\n",
    "from timeout_decorator import timeout, TimeoutError"
   ]
  },
  {
   "cell_type": "code",
   "execution_count": 3,
   "id": "ea703da3-6603-4ec1-bf1d-c4cc36eb103c",
   "metadata": {
    "tags": []
   },
   "outputs": [],
   "source": [
    "file_path = \"ETOPO_2022_v1_30s_N90W180_bed.tif\""
   ]
  },
  {
   "cell_type": "code",
   "execution_count": 4,
   "id": "9f4c29ff-e026-4552-b015-df22c8d7db56",
   "metadata": {
    "tags": []
   },
   "outputs": [],
   "source": [
    "KM = 1000"
   ]
  },
  {
   "cell_type": "code",
   "execution_count": 5,
   "id": "d4bee8e5-50f4-4799-9ede-e39f9cd37d0c",
   "metadata": {
    "tags": []
   },
   "outputs": [],
   "source": [
    "tz = dutz.gettz()"
   ]
  },
  {
   "cell_type": "code",
   "execution_count": null,
   "id": "2f09dfb9-eb48-4084-a658-147d9c4bc4d9",
   "metadata": {},
   "outputs": [],
   "source": [
    "'''\n",
    "Process just one location\n",
    "'''"
   ]
  },
  {
   "cell_type": "code",
   "execution_count": 19,
   "id": "f503ef93-f0d2-4c42-8dbf-8ab3adb65119",
   "metadata": {
    "tags": []
   },
   "outputs": [],
   "source": [
    "def process_location(latlon, file_path):\n",
    "    start_time = time.time()    \n",
    "    try:\n",
    "        with rasterio.open(file_path) as dataset:\n",
    "            hor_izon = horizon(latlon, dataset, distance=1*KM, height=2, precision=2)\n",
    "    except TimeoutError:\n",
    "        return None\n",
    "\n",
    "    sunsuns = sunrise_sunset_year(latlon, hor_izon, 2022, tz, 20)#60\n",
    "    daylight_values = []\n",
    "    for i in range(365):\n",
    "        day, sunrise, sunset, allday = sunsuns[i]\n",
    "        if allday:\n",
    "            delta = 24\n",
    "            print('Tpps says its all day')\n",
    "        elif allday is None:\n",
    "            delta = sunset - sunrise\n",
    "            delta = delta.total_seconds() / 3600\n",
    "            print('Calculating daylight hours')\n",
    "        else:\n",
    "            delta = 0\n",
    "            print('Tpps says its all night')\n",
    "        daylight_values.append(delta)\n",
    "    end_time = time.time()  # Record the end time\n",
    "    elapsed_time = end_time - start_time\n",
    "    print(f\"Execution time for location {latlon}: {elapsed_time} seconds\")\n",
    "\n",
    "    return daylight_values"
   ]
  },
  {
   "cell_type": "code",
   "execution_count": 20,
   "id": "b0781821-55e0-4774-beaa-e7f26e2165e8",
   "metadata": {
    "collapsed": true,
    "jupyter": {
     "outputs_hidden": true
    },
    "tags": []
   },
   "outputs": [
    {
     "name": "stdout",
     "output_type": "stream",
     "text": [
      "Calculating daylight hours\n",
      "Calculating daylight hours\n",
      "Calculating daylight hours\n",
      "Calculating daylight hours\n",
      "Calculating daylight hours\n",
      "Calculating daylight hours\n",
      "Calculating daylight hours\n",
      "Calculating daylight hours\n",
      "Calculating daylight hours\n",
      "Calculating daylight hours\n",
      "Calculating daylight hours\n",
      "Calculating daylight hours\n",
      "Calculating daylight hours\n",
      "Calculating daylight hours\n",
      "Calculating daylight hours\n",
      "Calculating daylight hours\n",
      "Calculating daylight hours\n",
      "Calculating daylight hours\n",
      "Calculating daylight hours\n",
      "Calculating daylight hours\n",
      "Calculating daylight hours\n",
      "Calculating daylight hours\n",
      "Calculating daylight hours\n",
      "Calculating daylight hours\n",
      "Calculating daylight hours\n",
      "Calculating daylight hours\n",
      "Calculating daylight hours\n",
      "Calculating daylight hours\n",
      "Calculating daylight hours\n",
      "Calculating daylight hours\n",
      "Calculating daylight hours\n",
      "Calculating daylight hours\n",
      "Calculating daylight hours\n",
      "Calculating daylight hours\n",
      "Calculating daylight hours\n",
      "Calculating daylight hours\n",
      "Calculating daylight hours\n",
      "Calculating daylight hours\n",
      "Calculating daylight hours\n",
      "Calculating daylight hours\n",
      "Calculating daylight hours\n",
      "Calculating daylight hours\n",
      "Calculating daylight hours\n",
      "Calculating daylight hours\n",
      "Calculating daylight hours\n",
      "Calculating daylight hours\n",
      "Calculating daylight hours\n",
      "Calculating daylight hours\n",
      "Calculating daylight hours\n",
      "Calculating daylight hours\n",
      "Calculating daylight hours\n",
      "Calculating daylight hours\n",
      "Calculating daylight hours\n",
      "Calculating daylight hours\n",
      "Calculating daylight hours\n",
      "Calculating daylight hours\n",
      "Calculating daylight hours\n",
      "Calculating daylight hours\n",
      "Calculating daylight hours\n",
      "Calculating daylight hours\n",
      "Calculating daylight hours\n",
      "Calculating daylight hours\n",
      "Calculating daylight hours\n",
      "Calculating daylight hours\n",
      "Calculating daylight hours\n",
      "Calculating daylight hours\n",
      "Calculating daylight hours\n",
      "Calculating daylight hours\n",
      "Calculating daylight hours\n",
      "Calculating daylight hours\n",
      "Calculating daylight hours\n",
      "Calculating daylight hours\n",
      "Calculating daylight hours\n",
      "Calculating daylight hours\n",
      "Calculating daylight hours\n",
      "Calculating daylight hours\n",
      "Calculating daylight hours\n",
      "Calculating daylight hours\n",
      "Calculating daylight hours\n",
      "Calculating daylight hours\n",
      "Calculating daylight hours\n",
      "Calculating daylight hours\n",
      "Calculating daylight hours\n",
      "Calculating daylight hours\n",
      "Calculating daylight hours\n",
      "Calculating daylight hours\n",
      "Calculating daylight hours\n",
      "Calculating daylight hours\n",
      "Calculating daylight hours\n",
      "Calculating daylight hours\n",
      "Calculating daylight hours\n",
      "Calculating daylight hours\n",
      "Calculating daylight hours\n",
      "Calculating daylight hours\n",
      "Calculating daylight hours\n",
      "Calculating daylight hours\n",
      "Calculating daylight hours\n",
      "Calculating daylight hours\n",
      "Calculating daylight hours\n",
      "Calculating daylight hours\n",
      "Calculating daylight hours\n",
      "Calculating daylight hours\n",
      "Calculating daylight hours\n",
      "Calculating daylight hours\n",
      "Calculating daylight hours\n",
      "Calculating daylight hours\n",
      "Calculating daylight hours\n",
      "Calculating daylight hours\n",
      "Calculating daylight hours\n",
      "Calculating daylight hours\n",
      "Calculating daylight hours\n",
      "Calculating daylight hours\n",
      "Calculating daylight hours\n",
      "Calculating daylight hours\n",
      "Calculating daylight hours\n",
      "Calculating daylight hours\n",
      "Calculating daylight hours\n",
      "Calculating daylight hours\n",
      "Calculating daylight hours\n",
      "Calculating daylight hours\n",
      "Calculating daylight hours\n",
      "Calculating daylight hours\n",
      "Calculating daylight hours\n",
      "Calculating daylight hours\n",
      "Calculating daylight hours\n",
      "Calculating daylight hours\n",
      "Calculating daylight hours\n",
      "Calculating daylight hours\n",
      "Calculating daylight hours\n",
      "Calculating daylight hours\n",
      "Calculating daylight hours\n",
      "Calculating daylight hours\n",
      "Calculating daylight hours\n",
      "Calculating daylight hours\n",
      "Calculating daylight hours\n",
      "Calculating daylight hours\n",
      "Calculating daylight hours\n",
      "Calculating daylight hours\n",
      "Calculating daylight hours\n",
      "Calculating daylight hours\n",
      "Calculating daylight hours\n",
      "Calculating daylight hours\n",
      "Calculating daylight hours\n",
      "Calculating daylight hours\n",
      "Calculating daylight hours\n",
      "Calculating daylight hours\n",
      "Calculating daylight hours\n",
      "Calculating daylight hours\n",
      "Calculating daylight hours\n",
      "Calculating daylight hours\n",
      "Calculating daylight hours\n",
      "Calculating daylight hours\n",
      "Calculating daylight hours\n",
      "Calculating daylight hours\n",
      "Calculating daylight hours\n",
      "Calculating daylight hours\n",
      "Calculating daylight hours\n",
      "Calculating daylight hours\n",
      "Calculating daylight hours\n",
      "Calculating daylight hours\n",
      "Calculating daylight hours\n",
      "Calculating daylight hours\n",
      "Calculating daylight hours\n",
      "Calculating daylight hours\n",
      "Calculating daylight hours\n",
      "Calculating daylight hours\n",
      "Calculating daylight hours\n",
      "Calculating daylight hours\n",
      "Calculating daylight hours\n",
      "Calculating daylight hours\n",
      "Calculating daylight hours\n",
      "Calculating daylight hours\n",
      "Calculating daylight hours\n",
      "Calculating daylight hours\n",
      "Calculating daylight hours\n",
      "Calculating daylight hours\n",
      "Calculating daylight hours\n",
      "Calculating daylight hours\n",
      "Calculating daylight hours\n",
      "Calculating daylight hours\n",
      "Calculating daylight hours\n",
      "Calculating daylight hours\n",
      "Calculating daylight hours\n",
      "Calculating daylight hours\n",
      "Calculating daylight hours\n",
      "Calculating daylight hours\n",
      "Calculating daylight hours\n",
      "Calculating daylight hours\n",
      "Calculating daylight hours\n",
      "Calculating daylight hours\n",
      "Calculating daylight hours\n",
      "Calculating daylight hours\n",
      "Calculating daylight hours\n",
      "Calculating daylight hours\n",
      "Calculating daylight hours\n",
      "Calculating daylight hours\n",
      "Calculating daylight hours\n",
      "Calculating daylight hours\n",
      "Calculating daylight hours\n",
      "Calculating daylight hours\n",
      "Calculating daylight hours\n",
      "Calculating daylight hours\n",
      "Calculating daylight hours\n",
      "Calculating daylight hours\n",
      "Calculating daylight hours\n",
      "Calculating daylight hours\n",
      "Calculating daylight hours\n",
      "Calculating daylight hours\n",
      "Calculating daylight hours\n",
      "Calculating daylight hours\n",
      "Calculating daylight hours\n",
      "Calculating daylight hours\n",
      "Calculating daylight hours\n",
      "Calculating daylight hours\n",
      "Calculating daylight hours\n",
      "Calculating daylight hours\n",
      "Calculating daylight hours\n",
      "Calculating daylight hours\n",
      "Calculating daylight hours\n",
      "Calculating daylight hours\n",
      "Calculating daylight hours\n",
      "Calculating daylight hours\n",
      "Calculating daylight hours\n",
      "Calculating daylight hours\n",
      "Calculating daylight hours\n",
      "Calculating daylight hours\n",
      "Calculating daylight hours\n",
      "Calculating daylight hours\n",
      "Calculating daylight hours\n",
      "Calculating daylight hours\n",
      "Calculating daylight hours\n",
      "Calculating daylight hours\n",
      "Calculating daylight hours\n",
      "Calculating daylight hours\n",
      "Calculating daylight hours\n",
      "Calculating daylight hours\n",
      "Calculating daylight hours\n",
      "Calculating daylight hours\n",
      "Calculating daylight hours\n",
      "Calculating daylight hours\n",
      "Calculating daylight hours\n",
      "Calculating daylight hours\n",
      "Calculating daylight hours\n",
      "Calculating daylight hours\n",
      "Calculating daylight hours\n",
      "Calculating daylight hours\n",
      "Calculating daylight hours\n",
      "Calculating daylight hours\n",
      "Calculating daylight hours\n",
      "Calculating daylight hours\n",
      "Calculating daylight hours\n",
      "Calculating daylight hours\n",
      "Calculating daylight hours\n",
      "Calculating daylight hours\n",
      "Calculating daylight hours\n",
      "Calculating daylight hours\n",
      "Calculating daylight hours\n",
      "Calculating daylight hours\n",
      "Calculating daylight hours\n",
      "Calculating daylight hours\n",
      "Calculating daylight hours\n",
      "Calculating daylight hours\n",
      "Calculating daylight hours\n",
      "Calculating daylight hours\n",
      "Calculating daylight hours\n",
      "Calculating daylight hours\n",
      "Calculating daylight hours\n",
      "Calculating daylight hours\n",
      "Calculating daylight hours\n",
      "Calculating daylight hours\n",
      "Calculating daylight hours\n",
      "Calculating daylight hours\n",
      "Calculating daylight hours\n",
      "Calculating daylight hours\n",
      "Calculating daylight hours\n",
      "Calculating daylight hours\n",
      "Calculating daylight hours\n",
      "Calculating daylight hours\n",
      "Calculating daylight hours\n",
      "Calculating daylight hours\n",
      "Calculating daylight hours\n",
      "Calculating daylight hours\n",
      "Calculating daylight hours\n",
      "Calculating daylight hours\n",
      "Calculating daylight hours\n",
      "Calculating daylight hours\n",
      "Calculating daylight hours\n",
      "Calculating daylight hours\n",
      "Calculating daylight hours\n",
      "Calculating daylight hours\n",
      "Calculating daylight hours\n",
      "Calculating daylight hours\n",
      "Calculating daylight hours\n",
      "Calculating daylight hours\n",
      "Calculating daylight hours\n",
      "Calculating daylight hours\n",
      "Calculating daylight hours\n",
      "Calculating daylight hours\n",
      "Calculating daylight hours\n",
      "Calculating daylight hours\n",
      "Calculating daylight hours\n",
      "Calculating daylight hours\n",
      "Calculating daylight hours\n",
      "Calculating daylight hours\n",
      "Calculating daylight hours\n",
      "Calculating daylight hours\n",
      "Calculating daylight hours\n",
      "Calculating daylight hours\n",
      "Calculating daylight hours\n",
      "Calculating daylight hours\n",
      "Calculating daylight hours\n",
      "Calculating daylight hours\n",
      "Calculating daylight hours\n",
      "Calculating daylight hours\n",
      "Calculating daylight hours\n",
      "Calculating daylight hours\n",
      "Calculating daylight hours\n",
      "Calculating daylight hours\n",
      "Calculating daylight hours\n",
      "Calculating daylight hours\n",
      "Calculating daylight hours\n",
      "Calculating daylight hours\n",
      "Calculating daylight hours\n",
      "Calculating daylight hours\n",
      "Calculating daylight hours\n",
      "Calculating daylight hours\n",
      "Calculating daylight hours\n",
      "Calculating daylight hours\n",
      "Calculating daylight hours\n",
      "Calculating daylight hours\n",
      "Calculating daylight hours\n",
      "Calculating daylight hours\n",
      "Calculating daylight hours\n",
      "Calculating daylight hours\n",
      "Calculating daylight hours\n",
      "Calculating daylight hours\n",
      "Calculating daylight hours\n",
      "Calculating daylight hours\n",
      "Calculating daylight hours\n",
      "Calculating daylight hours\n",
      "Calculating daylight hours\n",
      "Calculating daylight hours\n",
      "Calculating daylight hours\n",
      "Calculating daylight hours\n",
      "Calculating daylight hours\n",
      "Calculating daylight hours\n",
      "Calculating daylight hours\n",
      "Calculating daylight hours\n",
      "Calculating daylight hours\n",
      "Calculating daylight hours\n",
      "Calculating daylight hours\n",
      "Calculating daylight hours\n",
      "Calculating daylight hours\n",
      "Calculating daylight hours\n",
      "Calculating daylight hours\n",
      "Calculating daylight hours\n",
      "Calculating daylight hours\n",
      "Calculating daylight hours\n",
      "Calculating daylight hours\n",
      "Calculating daylight hours\n",
      "Calculating daylight hours\n",
      "Calculating daylight hours\n",
      "Calculating daylight hours\n",
      "Calculating daylight hours\n",
      "Calculating daylight hours\n",
      "Execution time for location (-22.58, -172.59): 1.7823410034179688 seconds\n"
     ]
    },
    {
     "data": {
      "text/plain": [
       "[24.0,\n",
       " 24.0,\n",
       " 24.0,\n",
       " 24.0,\n",
       " 24.0,\n",
       " 24.0,\n",
       " 24.0,\n",
       " 24.0,\n",
       " 24.0,\n",
       " 24.0,\n",
       " 24.0,\n",
       " 24.0,\n",
       " 24.0,\n",
       " 24.0,\n",
       " 24.0,\n",
       " 24.0,\n",
       " 24.0,\n",
       " 24.0,\n",
       " 24.0,\n",
       " 24.0,\n",
       " 24.0,\n",
       " 24.0,\n",
       " 24.0,\n",
       " 24.0,\n",
       " 24.0,\n",
       " 24.0,\n",
       " 24.0,\n",
       " 24.0,\n",
       " 24.0,\n",
       " 24.0,\n",
       " 24.0,\n",
       " 24.0,\n",
       " 24.0,\n",
       " 24.0,\n",
       " 24.0,\n",
       " 24.0,\n",
       " 24.0,\n",
       " 24.0,\n",
       " 24.0,\n",
       " 24.0,\n",
       " 24.0,\n",
       " 24.0,\n",
       " 24.0,\n",
       " 24.0,\n",
       " 24.0,\n",
       " 24.0,\n",
       " 24.0,\n",
       " 24.0,\n",
       " 24.0,\n",
       " 24.0,\n",
       " 24.0,\n",
       " 24.0,\n",
       " 24.0,\n",
       " 24.0,\n",
       " 24.0,\n",
       " 24.0,\n",
       " 24.0,\n",
       " 24.0,\n",
       " 24.0,\n",
       " 24.0,\n",
       " 24.0,\n",
       " 24.0,\n",
       " 24.0,\n",
       " 24.0,\n",
       " 24.0,\n",
       " 24.0,\n",
       " 24.0,\n",
       " 24.0,\n",
       " 24.0,\n",
       " 24.0,\n",
       " 24.0,\n",
       " 24.0,\n",
       " 24.0,\n",
       " 24.0,\n",
       " 24.0,\n",
       " 24.0,\n",
       " 24.0,\n",
       " 24.0,\n",
       " 24.0,\n",
       " 24.0,\n",
       " 24.0,\n",
       " 24.0,\n",
       " 24.0,\n",
       " 24.0,\n",
       " 24.0,\n",
       " 24.0,\n",
       " 24.0,\n",
       " 24.0,\n",
       " 24.0,\n",
       " 24.0,\n",
       " 24.0,\n",
       " 24.0,\n",
       " 24.0,\n",
       " 24.0,\n",
       " 24.0,\n",
       " 24.0,\n",
       " 24.0,\n",
       " 24.0,\n",
       " 24.0,\n",
       " 24.0,\n",
       " 24.0,\n",
       " 24.0,\n",
       " 24.0,\n",
       " 24.0,\n",
       " 24.0,\n",
       " 24.0,\n",
       " 24.0,\n",
       " 24.0,\n",
       " 24.0,\n",
       " 24.0,\n",
       " 24.0,\n",
       " 24.0,\n",
       " 24.0,\n",
       " 24.0,\n",
       " 24.0,\n",
       " 24.0,\n",
       " 24.0,\n",
       " 24.0,\n",
       " 24.0,\n",
       " 24.0,\n",
       " 24.0,\n",
       " 24.0,\n",
       " 24.0,\n",
       " 24.0,\n",
       " 24.0,\n",
       " 24.0,\n",
       " 24.0,\n",
       " 24.0,\n",
       " 24.0,\n",
       " 24.0,\n",
       " 24.0,\n",
       " 24.0,\n",
       " 24.0,\n",
       " 24.0,\n",
       " 24.0,\n",
       " 24.0,\n",
       " 24.0,\n",
       " 24.0,\n",
       " 24.0,\n",
       " 24.0,\n",
       " 24.0,\n",
       " 24.0,\n",
       " 24.0,\n",
       " 24.0,\n",
       " 24.0,\n",
       " 24.0,\n",
       " 24.0,\n",
       " 24.0,\n",
       " 24.0,\n",
       " 24.0,\n",
       " 24.0,\n",
       " 24.0,\n",
       " 24.0,\n",
       " 24.0,\n",
       " 24.0,\n",
       " 24.0,\n",
       " 24.0,\n",
       " 24.0,\n",
       " 24.0,\n",
       " 24.0,\n",
       " 24.0,\n",
       " 24.0,\n",
       " 24.0,\n",
       " 24.0,\n",
       " 24.0,\n",
       " 24.0,\n",
       " 24.0,\n",
       " 24.0,\n",
       " 24.0,\n",
       " 24.0,\n",
       " 24.0,\n",
       " 24.0,\n",
       " 24.0,\n",
       " 24.0,\n",
       " 24.0,\n",
       " 24.0,\n",
       " 24.0,\n",
       " 24.0,\n",
       " 24.0,\n",
       " 24.0,\n",
       " 24.0,\n",
       " 24.0,\n",
       " 24.0,\n",
       " 24.0,\n",
       " 24.0,\n",
       " 24.0,\n",
       " 24.0,\n",
       " 24.0,\n",
       " 24.0,\n",
       " 24.0,\n",
       " 24.0,\n",
       " 24.0,\n",
       " 24.0,\n",
       " 24.0,\n",
       " 24.0,\n",
       " 24.0,\n",
       " 24.0,\n",
       " 24.0,\n",
       " 24.0,\n",
       " 24.0,\n",
       " 24.0,\n",
       " 24.0,\n",
       " 24.0,\n",
       " 24.0,\n",
       " 24.0,\n",
       " 24.0,\n",
       " 24.0,\n",
       " 24.0,\n",
       " 24.0,\n",
       " 24.0,\n",
       " 24.0,\n",
       " 24.0,\n",
       " 24.0,\n",
       " 24.0,\n",
       " 24.0,\n",
       " 24.0,\n",
       " 24.0,\n",
       " 24.0,\n",
       " 24.0,\n",
       " 24.0,\n",
       " 24.0,\n",
       " 24.0,\n",
       " 24.0,\n",
       " 24.0,\n",
       " 24.0,\n",
       " 24.0,\n",
       " 24.0,\n",
       " 24.0,\n",
       " 24.0,\n",
       " 24.0,\n",
       " 24.0,\n",
       " 24.0,\n",
       " 24.0,\n",
       " 24.0,\n",
       " 24.0,\n",
       " 24.0,\n",
       " 24.0,\n",
       " 24.0,\n",
       " 24.0,\n",
       " 24.0,\n",
       " 24.0,\n",
       " 24.0,\n",
       " 24.0,\n",
       " 24.0,\n",
       " 24.0,\n",
       " 24.0,\n",
       " 24.0,\n",
       " 24.0,\n",
       " 24.0,\n",
       " 24.0,\n",
       " 24.0,\n",
       " 24.0,\n",
       " 24.0,\n",
       " 24.0,\n",
       " 24.0,\n",
       " 24.0,\n",
       " 24.0,\n",
       " 24.0,\n",
       " 24.0,\n",
       " 24.0,\n",
       " 24.0,\n",
       " 24.0,\n",
       " 24.0,\n",
       " 24.0,\n",
       " 24.0,\n",
       " 24.0,\n",
       " 24.0,\n",
       " 24.0,\n",
       " 24.0,\n",
       " 24.0,\n",
       " 24.0,\n",
       " 24.0,\n",
       " 24.0,\n",
       " 24.0,\n",
       " 24.0,\n",
       " 24.0,\n",
       " 24.0,\n",
       " 24.0,\n",
       " 24.0,\n",
       " 24.0,\n",
       " 24.0,\n",
       " 24.0,\n",
       " 24.0,\n",
       " 24.0,\n",
       " 24.0,\n",
       " 24.0,\n",
       " 24.0,\n",
       " 24.0,\n",
       " 24.0,\n",
       " 24.0,\n",
       " 24.0,\n",
       " 24.0,\n",
       " 24.0,\n",
       " 24.0,\n",
       " 24.0,\n",
       " 24.0,\n",
       " 24.0,\n",
       " 24.0,\n",
       " 24.0,\n",
       " 24.0,\n",
       " 24.0,\n",
       " 24.0,\n",
       " 24.0,\n",
       " 24.0,\n",
       " 24.0,\n",
       " 24.0,\n",
       " 24.0,\n",
       " 24.0,\n",
       " 24.0,\n",
       " 24.0,\n",
       " 24.0,\n",
       " 24.0,\n",
       " 24.0,\n",
       " 24.0,\n",
       " 24.0,\n",
       " 24.0,\n",
       " 24.0,\n",
       " 24.0,\n",
       " 24.0,\n",
       " 24.0,\n",
       " 24.0,\n",
       " 24.0,\n",
       " 24.0,\n",
       " 24.0,\n",
       " 24.0,\n",
       " 24.0,\n",
       " 24.0,\n",
       " 24.0,\n",
       " 24.0,\n",
       " 24.0,\n",
       " 24.0,\n",
       " 24.0,\n",
       " 24.0,\n",
       " 24.0,\n",
       " 24.0,\n",
       " 24.0,\n",
       " 24.0,\n",
       " 24.0,\n",
       " 24.0,\n",
       " 24.0,\n",
       " 24.0,\n",
       " 24.0,\n",
       " 24.0,\n",
       " 24.0,\n",
       " 24.0,\n",
       " 24.0,\n",
       " 24.0,\n",
       " 24.0,\n",
       " 24.0,\n",
       " 24.0,\n",
       " 24.0,\n",
       " 24.0,\n",
       " 24.0,\n",
       " 24.0,\n",
       " 24.0,\n",
       " 24.0,\n",
       " 24.0,\n",
       " 24.0,\n",
       " 24.0,\n",
       " 24.0,\n",
       " 24.0,\n",
       " 24.0,\n",
       " 24.0,\n",
       " 24.0,\n",
       " 24.0]"
      ]
     },
     "execution_count": 20,
     "metadata": {},
     "output_type": "execute_result"
    }
   ],
   "source": [
    "latlon = (-22.58, -172.59)\n",
    "daylight_hours_one = process_location(latlon, file_path)\n",
    "daylight_hours_one"
   ]
  },
  {
   "cell_type": "code",
   "execution_count": null,
   "id": "44986e1d-c4ef-47b9-922b-32f02a472048",
   "metadata": {},
   "outputs": [],
   "source": [
    "'''\n",
    "Open as xarray \n",
    "'''"
   ]
  },
  {
   "cell_type": "code",
   "execution_count": 10,
   "id": "5286925e-67fd-4ee5-a512-24d7e40c07e3",
   "metadata": {
    "tags": []
   },
   "outputs": [],
   "source": [
    "da = rioxarray.open_rasterio(file_path, crs='EPSG:4326')"
   ]
  },
  {
   "cell_type": "code",
   "execution_count": 11,
   "id": "2f731d5f-1a1f-46e4-94cb-ae9e70fd5734",
   "metadata": {
    "tags": []
   },
   "outputs": [
    {
     "data": {
      "text/html": [
       "<div><svg style=\"position: absolute; width: 0; height: 0; overflow: hidden\">\n",
       "<defs>\n",
       "<symbol id=\"icon-database\" viewBox=\"0 0 32 32\">\n",
       "<path d=\"M16 0c-8.837 0-16 2.239-16 5v4c0 2.761 7.163 5 16 5s16-2.239 16-5v-4c0-2.761-7.163-5-16-5z\"></path>\n",
       "<path d=\"M16 17c-8.837 0-16-2.239-16-5v6c0 2.761 7.163 5 16 5s16-2.239 16-5v-6c0 2.761-7.163 5-16 5z\"></path>\n",
       "<path d=\"M16 26c-8.837 0-16-2.239-16-5v6c0 2.761 7.163 5 16 5s16-2.239 16-5v-6c0 2.761-7.163 5-16 5z\"></path>\n",
       "</symbol>\n",
       "<symbol id=\"icon-file-text2\" viewBox=\"0 0 32 32\">\n",
       "<path d=\"M28.681 7.159c-0.694-0.947-1.662-2.053-2.724-3.116s-2.169-2.030-3.116-2.724c-1.612-1.182-2.393-1.319-2.841-1.319h-15.5c-1.378 0-2.5 1.121-2.5 2.5v27c0 1.378 1.122 2.5 2.5 2.5h23c1.378 0 2.5-1.122 2.5-2.5v-19.5c0-0.448-0.137-1.23-1.319-2.841zM24.543 5.457c0.959 0.959 1.712 1.825 2.268 2.543h-4.811v-4.811c0.718 0.556 1.584 1.309 2.543 2.268zM28 29.5c0 0.271-0.229 0.5-0.5 0.5h-23c-0.271 0-0.5-0.229-0.5-0.5v-27c0-0.271 0.229-0.5 0.5-0.5 0 0 15.499-0 15.5 0v7c0 0.552 0.448 1 1 1h7v19.5z\"></path>\n",
       "<path d=\"M23 26h-14c-0.552 0-1-0.448-1-1s0.448-1 1-1h14c0.552 0 1 0.448 1 1s-0.448 1-1 1z\"></path>\n",
       "<path d=\"M23 22h-14c-0.552 0-1-0.448-1-1s0.448-1 1-1h14c0.552 0 1 0.448 1 1s-0.448 1-1 1z\"></path>\n",
       "<path d=\"M23 18h-14c-0.552 0-1-0.448-1-1s0.448-1 1-1h14c0.552 0 1 0.448 1 1s-0.448 1-1 1z\"></path>\n",
       "</symbol>\n",
       "</defs>\n",
       "</svg>\n",
       "<style>/* CSS stylesheet for displaying xarray objects in jupyterlab.\n",
       " *\n",
       " */\n",
       "\n",
       ":root {\n",
       "  --xr-font-color0: var(--jp-content-font-color0, rgba(0, 0, 0, 1));\n",
       "  --xr-font-color2: var(--jp-content-font-color2, rgba(0, 0, 0, 0.54));\n",
       "  --xr-font-color3: var(--jp-content-font-color3, rgba(0, 0, 0, 0.38));\n",
       "  --xr-border-color: var(--jp-border-color2, #e0e0e0);\n",
       "  --xr-disabled-color: var(--jp-layout-color3, #bdbdbd);\n",
       "  --xr-background-color: var(--jp-layout-color0, white);\n",
       "  --xr-background-color-row-even: var(--jp-layout-color1, white);\n",
       "  --xr-background-color-row-odd: var(--jp-layout-color2, #eeeeee);\n",
       "}\n",
       "\n",
       "html[theme=dark],\n",
       "body[data-theme=dark],\n",
       "body.vscode-dark {\n",
       "  --xr-font-color0: rgba(255, 255, 255, 1);\n",
       "  --xr-font-color2: rgba(255, 255, 255, 0.54);\n",
       "  --xr-font-color3: rgba(255, 255, 255, 0.38);\n",
       "  --xr-border-color: #1F1F1F;\n",
       "  --xr-disabled-color: #515151;\n",
       "  --xr-background-color: #111111;\n",
       "  --xr-background-color-row-even: #111111;\n",
       "  --xr-background-color-row-odd: #313131;\n",
       "}\n",
       "\n",
       ".xr-wrap {\n",
       "  display: block !important;\n",
       "  min-width: 300px;\n",
       "  max-width: 700px;\n",
       "}\n",
       "\n",
       ".xr-text-repr-fallback {\n",
       "  /* fallback to plain text repr when CSS is not injected (untrusted notebook) */\n",
       "  display: none;\n",
       "}\n",
       "\n",
       ".xr-header {\n",
       "  padding-top: 6px;\n",
       "  padding-bottom: 6px;\n",
       "  margin-bottom: 4px;\n",
       "  border-bottom: solid 1px var(--xr-border-color);\n",
       "}\n",
       "\n",
       ".xr-header > div,\n",
       ".xr-header > ul {\n",
       "  display: inline;\n",
       "  margin-top: 0;\n",
       "  margin-bottom: 0;\n",
       "}\n",
       "\n",
       ".xr-obj-type,\n",
       ".xr-array-name {\n",
       "  margin-left: 2px;\n",
       "  margin-right: 10px;\n",
       "}\n",
       "\n",
       ".xr-obj-type {\n",
       "  color: var(--xr-font-color2);\n",
       "}\n",
       "\n",
       ".xr-sections {\n",
       "  padding-left: 0 !important;\n",
       "  display: grid;\n",
       "  grid-template-columns: 150px auto auto 1fr 20px 20px;\n",
       "}\n",
       "\n",
       ".xr-section-item {\n",
       "  display: contents;\n",
       "}\n",
       "\n",
       ".xr-section-item input {\n",
       "  display: none;\n",
       "}\n",
       "\n",
       ".xr-section-item input + label {\n",
       "  color: var(--xr-disabled-color);\n",
       "}\n",
       "\n",
       ".xr-section-item input:enabled + label {\n",
       "  cursor: pointer;\n",
       "  color: var(--xr-font-color2);\n",
       "}\n",
       "\n",
       ".xr-section-item input:enabled + label:hover {\n",
       "  color: var(--xr-font-color0);\n",
       "}\n",
       "\n",
       ".xr-section-summary {\n",
       "  grid-column: 1;\n",
       "  color: var(--xr-font-color2);\n",
       "  font-weight: 500;\n",
       "}\n",
       "\n",
       ".xr-section-summary > span {\n",
       "  display: inline-block;\n",
       "  padding-left: 0.5em;\n",
       "}\n",
       "\n",
       ".xr-section-summary-in:disabled + label {\n",
       "  color: var(--xr-font-color2);\n",
       "}\n",
       "\n",
       ".xr-section-summary-in + label:before {\n",
       "  display: inline-block;\n",
       "  content: '►';\n",
       "  font-size: 11px;\n",
       "  width: 15px;\n",
       "  text-align: center;\n",
       "}\n",
       "\n",
       ".xr-section-summary-in:disabled + label:before {\n",
       "  color: var(--xr-disabled-color);\n",
       "}\n",
       "\n",
       ".xr-section-summary-in:checked + label:before {\n",
       "  content: '▼';\n",
       "}\n",
       "\n",
       ".xr-section-summary-in:checked + label > span {\n",
       "  display: none;\n",
       "}\n",
       "\n",
       ".xr-section-summary,\n",
       ".xr-section-inline-details {\n",
       "  padding-top: 4px;\n",
       "  padding-bottom: 4px;\n",
       "}\n",
       "\n",
       ".xr-section-inline-details {\n",
       "  grid-column: 2 / -1;\n",
       "}\n",
       "\n",
       ".xr-section-details {\n",
       "  display: none;\n",
       "  grid-column: 1 / -1;\n",
       "  margin-bottom: 5px;\n",
       "}\n",
       "\n",
       ".xr-section-summary-in:checked ~ .xr-section-details {\n",
       "  display: contents;\n",
       "}\n",
       "\n",
       ".xr-array-wrap {\n",
       "  grid-column: 1 / -1;\n",
       "  display: grid;\n",
       "  grid-template-columns: 20px auto;\n",
       "}\n",
       "\n",
       ".xr-array-wrap > label {\n",
       "  grid-column: 1;\n",
       "  vertical-align: top;\n",
       "}\n",
       "\n",
       ".xr-preview {\n",
       "  color: var(--xr-font-color3);\n",
       "}\n",
       "\n",
       ".xr-array-preview,\n",
       ".xr-array-data {\n",
       "  padding: 0 5px !important;\n",
       "  grid-column: 2;\n",
       "}\n",
       "\n",
       ".xr-array-data,\n",
       ".xr-array-in:checked ~ .xr-array-preview {\n",
       "  display: none;\n",
       "}\n",
       "\n",
       ".xr-array-in:checked ~ .xr-array-data,\n",
       ".xr-array-preview {\n",
       "  display: inline-block;\n",
       "}\n",
       "\n",
       ".xr-dim-list {\n",
       "  display: inline-block !important;\n",
       "  list-style: none;\n",
       "  padding: 0 !important;\n",
       "  margin: 0;\n",
       "}\n",
       "\n",
       ".xr-dim-list li {\n",
       "  display: inline-block;\n",
       "  padding: 0;\n",
       "  margin: 0;\n",
       "}\n",
       "\n",
       ".xr-dim-list:before {\n",
       "  content: '(';\n",
       "}\n",
       "\n",
       ".xr-dim-list:after {\n",
       "  content: ')';\n",
       "}\n",
       "\n",
       ".xr-dim-list li:not(:last-child):after {\n",
       "  content: ',';\n",
       "  padding-right: 5px;\n",
       "}\n",
       "\n",
       ".xr-has-index {\n",
       "  font-weight: bold;\n",
       "}\n",
       "\n",
       ".xr-var-list,\n",
       ".xr-var-item {\n",
       "  display: contents;\n",
       "}\n",
       "\n",
       ".xr-var-item > div,\n",
       ".xr-var-item label,\n",
       ".xr-var-item > .xr-var-name span {\n",
       "  background-color: var(--xr-background-color-row-even);\n",
       "  margin-bottom: 0;\n",
       "}\n",
       "\n",
       ".xr-var-item > .xr-var-name:hover span {\n",
       "  padding-right: 5px;\n",
       "}\n",
       "\n",
       ".xr-var-list > li:nth-child(odd) > div,\n",
       ".xr-var-list > li:nth-child(odd) > label,\n",
       ".xr-var-list > li:nth-child(odd) > .xr-var-name span {\n",
       "  background-color: var(--xr-background-color-row-odd);\n",
       "}\n",
       "\n",
       ".xr-var-name {\n",
       "  grid-column: 1;\n",
       "}\n",
       "\n",
       ".xr-var-dims {\n",
       "  grid-column: 2;\n",
       "}\n",
       "\n",
       ".xr-var-dtype {\n",
       "  grid-column: 3;\n",
       "  text-align: right;\n",
       "  color: var(--xr-font-color2);\n",
       "}\n",
       "\n",
       ".xr-var-preview {\n",
       "  grid-column: 4;\n",
       "}\n",
       "\n",
       ".xr-index-preview {\n",
       "  grid-column: 2 / 5;\n",
       "  color: var(--xr-font-color2);\n",
       "}\n",
       "\n",
       ".xr-var-name,\n",
       ".xr-var-dims,\n",
       ".xr-var-dtype,\n",
       ".xr-preview,\n",
       ".xr-attrs dt {\n",
       "  white-space: nowrap;\n",
       "  overflow: hidden;\n",
       "  text-overflow: ellipsis;\n",
       "  padding-right: 10px;\n",
       "}\n",
       "\n",
       ".xr-var-name:hover,\n",
       ".xr-var-dims:hover,\n",
       ".xr-var-dtype:hover,\n",
       ".xr-attrs dt:hover {\n",
       "  overflow: visible;\n",
       "  width: auto;\n",
       "  z-index: 1;\n",
       "}\n",
       "\n",
       ".xr-var-attrs,\n",
       ".xr-var-data,\n",
       ".xr-index-data {\n",
       "  display: none;\n",
       "  background-color: var(--xr-background-color) !important;\n",
       "  padding-bottom: 5px !important;\n",
       "}\n",
       "\n",
       ".xr-var-attrs-in:checked ~ .xr-var-attrs,\n",
       ".xr-var-data-in:checked ~ .xr-var-data,\n",
       ".xr-index-data-in:checked ~ .xr-index-data {\n",
       "  display: block;\n",
       "}\n",
       "\n",
       ".xr-var-data > table {\n",
       "  float: right;\n",
       "}\n",
       "\n",
       ".xr-var-name span,\n",
       ".xr-var-data,\n",
       ".xr-index-name div,\n",
       ".xr-index-data,\n",
       ".xr-attrs {\n",
       "  padding-left: 25px !important;\n",
       "}\n",
       "\n",
       ".xr-attrs,\n",
       ".xr-var-attrs,\n",
       ".xr-var-data,\n",
       ".xr-index-data {\n",
       "  grid-column: 1 / -1;\n",
       "}\n",
       "\n",
       "dl.xr-attrs {\n",
       "  padding: 0;\n",
       "  margin: 0;\n",
       "  display: grid;\n",
       "  grid-template-columns: 125px auto;\n",
       "}\n",
       "\n",
       ".xr-attrs dt,\n",
       ".xr-attrs dd {\n",
       "  padding: 0;\n",
       "  margin: 0;\n",
       "  float: left;\n",
       "  padding-right: 10px;\n",
       "  width: auto;\n",
       "}\n",
       "\n",
       ".xr-attrs dt {\n",
       "  font-weight: normal;\n",
       "  grid-column: 1;\n",
       "}\n",
       "\n",
       ".xr-attrs dt:hover span {\n",
       "  display: inline-block;\n",
       "  background: var(--xr-background-color);\n",
       "  padding-right: 10px;\n",
       "}\n",
       "\n",
       ".xr-attrs dd {\n",
       "  grid-column: 2;\n",
       "  white-space: pre-wrap;\n",
       "  word-break: break-all;\n",
       "}\n",
       "\n",
       ".xr-icon-database,\n",
       ".xr-icon-file-text2,\n",
       ".xr-no-icon {\n",
       "  display: inline-block;\n",
       "  vertical-align: middle;\n",
       "  width: 1em;\n",
       "  height: 1.5em !important;\n",
       "  stroke-width: 0;\n",
       "  stroke: currentColor;\n",
       "  fill: currentColor;\n",
       "}\n",
       "</style><pre class='xr-text-repr-fallback'>&lt;xarray.DataArray (band: 1, y: 21600, x: 43200)&gt;\n",
       "[933120000 values with dtype=float32]\n",
       "Coordinates:\n",
       "  * band         (band) int64 1\n",
       "  * x            (x) float64 -180.0 -180.0 -180.0 -180.0 ... 180.0 180.0 180.0\n",
       "  * y            (y) float64 90.0 89.99 89.98 89.97 ... -89.98 -89.99 -90.0\n",
       "    spatial_ref  int64 0\n",
       "Attributes:\n",
       "    AREA_OR_POINT:             Area\n",
       "    node_offset:               1\n",
       "    TIFFTAG_COPYRIGHT:         DOC/NOAA/NESDIS/NCEI &gt; National Centers for En...\n",
       "    TIFFTAG_DATETIME:          20220929123913\n",
       "    TIFFTAG_IMAGEDESCRIPTION:  Topography-Bathymetry; EGM2008 height\n",
       "    tos#node_offset:           1\n",
       "    _FillValue:                -99999.0\n",
       "    scale_factor:              1.0\n",
       "    add_offset:                0.0\n",
       "    units:                     metre</pre><div class='xr-wrap' style='display:none'><div class='xr-header'><div class='xr-obj-type'>xarray.DataArray</div><div class='xr-array-name'></div><ul class='xr-dim-list'><li><span class='xr-has-index'>band</span>: 1</li><li><span class='xr-has-index'>y</span>: 21600</li><li><span class='xr-has-index'>x</span>: 43200</li></ul></div><ul class='xr-sections'><li class='xr-section-item'><div class='xr-array-wrap'><input id='section-72a16706-f442-44dd-b239-6e8f7d27ad39' class='xr-array-in' type='checkbox' checked><label for='section-72a16706-f442-44dd-b239-6e8f7d27ad39' title='Show/hide data repr'><svg class='icon xr-icon-database'><use xlink:href='#icon-database'></use></svg></label><div class='xr-array-preview xr-preview'><span>...</span></div><div class='xr-array-data'><pre>[933120000 values with dtype=float32]</pre></div></div></li><li class='xr-section-item'><input id='section-c577e23d-2005-47fa-86f1-15abc1013e14' class='xr-section-summary-in' type='checkbox'  checked><label for='section-c577e23d-2005-47fa-86f1-15abc1013e14' class='xr-section-summary' >Coordinates: <span>(4)</span></label><div class='xr-section-inline-details'></div><div class='xr-section-details'><ul class='xr-var-list'><li class='xr-var-item'><div class='xr-var-name'><span class='xr-has-index'>band</span></div><div class='xr-var-dims'>(band)</div><div class='xr-var-dtype'>int64</div><div class='xr-var-preview xr-preview'>1</div><input id='attrs-32254450-2584-433d-b771-73b19c2f5f88' class='xr-var-attrs-in' type='checkbox' disabled><label for='attrs-32254450-2584-433d-b771-73b19c2f5f88' title='Show/Hide attributes'><svg class='icon xr-icon-file-text2'><use xlink:href='#icon-file-text2'></use></svg></label><input id='data-6989e517-76a7-42ad-b676-e7b8e1a1f741' class='xr-var-data-in' type='checkbox'><label for='data-6989e517-76a7-42ad-b676-e7b8e1a1f741' title='Show/Hide data repr'><svg class='icon xr-icon-database'><use xlink:href='#icon-database'></use></svg></label><div class='xr-var-attrs'><dl class='xr-attrs'></dl></div><div class='xr-var-data'><pre>array([1])</pre></div></li><li class='xr-var-item'><div class='xr-var-name'><span class='xr-has-index'>x</span></div><div class='xr-var-dims'>(x)</div><div class='xr-var-dtype'>float64</div><div class='xr-var-preview xr-preview'>-180.0 -180.0 ... 180.0 180.0</div><input id='attrs-23268f35-a712-4b7c-a226-a9c1dcf80e29' class='xr-var-attrs-in' type='checkbox' disabled><label for='attrs-23268f35-a712-4b7c-a226-a9c1dcf80e29' title='Show/Hide attributes'><svg class='icon xr-icon-file-text2'><use xlink:href='#icon-file-text2'></use></svg></label><input id='data-dcae484c-eaf7-4ef6-aed7-50b95d45e2a6' class='xr-var-data-in' type='checkbox'><label for='data-dcae484c-eaf7-4ef6-aed7-50b95d45e2a6' title='Show/Hide data repr'><svg class='icon xr-icon-database'><use xlink:href='#icon-database'></use></svg></label><div class='xr-var-attrs'><dl class='xr-attrs'></dl></div><div class='xr-var-data'><pre>array([-179.995833, -179.9875  , -179.979167, ...,  179.979167,  179.9875  ,\n",
       "        179.995833])</pre></div></li><li class='xr-var-item'><div class='xr-var-name'><span class='xr-has-index'>y</span></div><div class='xr-var-dims'>(y)</div><div class='xr-var-dtype'>float64</div><div class='xr-var-preview xr-preview'>90.0 89.99 89.98 ... -89.99 -90.0</div><input id='attrs-0fc14e9d-c264-417c-939b-a800114ab261' class='xr-var-attrs-in' type='checkbox' disabled><label for='attrs-0fc14e9d-c264-417c-939b-a800114ab261' title='Show/Hide attributes'><svg class='icon xr-icon-file-text2'><use xlink:href='#icon-file-text2'></use></svg></label><input id='data-297ab41c-6553-4aff-9d7e-51ff43cd83a7' class='xr-var-data-in' type='checkbox'><label for='data-297ab41c-6553-4aff-9d7e-51ff43cd83a7' title='Show/Hide data repr'><svg class='icon xr-icon-database'><use xlink:href='#icon-database'></use></svg></label><div class='xr-var-attrs'><dl class='xr-attrs'></dl></div><div class='xr-var-data'><pre>array([ 89.995833,  89.9875  ,  89.979167, ..., -89.979167, -89.9875  ,\n",
       "       -89.995833])</pre></div></li><li class='xr-var-item'><div class='xr-var-name'><span>spatial_ref</span></div><div class='xr-var-dims'>()</div><div class='xr-var-dtype'>int64</div><div class='xr-var-preview xr-preview'>0</div><input id='attrs-39f18e89-b750-4cc6-8000-b0ec5325f819' class='xr-var-attrs-in' type='checkbox' ><label for='attrs-39f18e89-b750-4cc6-8000-b0ec5325f819' title='Show/Hide attributes'><svg class='icon xr-icon-file-text2'><use xlink:href='#icon-file-text2'></use></svg></label><input id='data-37cada5f-8beb-450a-9de6-05c5ab47fb26' class='xr-var-data-in' type='checkbox'><label for='data-37cada5f-8beb-450a-9de6-05c5ab47fb26' title='Show/Hide data repr'><svg class='icon xr-icon-database'><use xlink:href='#icon-database'></use></svg></label><div class='xr-var-attrs'><dl class='xr-attrs'><dt><span>crs_wkt :</span></dt><dd>COMPD_CS[&quot;WGS 84 + EGM2008 height&quot;,GEOGCS[&quot;WGS 84&quot;,DATUM[&quot;WGS_1984&quot;,SPHEROID[&quot;WGS 84&quot;,6378137,298.257223563,AUTHORITY[&quot;EPSG&quot;,&quot;7030&quot;]],AUTHORITY[&quot;EPSG&quot;,&quot;6326&quot;]],PRIMEM[&quot;Greenwich&quot;,0,AUTHORITY[&quot;EPSG&quot;,&quot;8901&quot;]],UNIT[&quot;degree&quot;,0.0174532925199433,AUTHORITY[&quot;EPSG&quot;,&quot;9122&quot;]],AXIS[&quot;Latitude&quot;,NORTH],AXIS[&quot;Longitude&quot;,EAST],AUTHORITY[&quot;EPSG&quot;,&quot;4326&quot;]],VERT_CS[&quot;EGM2008 height&quot;,VERT_DATUM[&quot;EGM2008 geoid&quot;,2005,AUTHORITY[&quot;EPSG&quot;,&quot;1027&quot;]],UNIT[&quot;metre&quot;,1,AUTHORITY[&quot;EPSG&quot;,&quot;9001&quot;]],AXIS[&quot;Gravity-related height&quot;,UP],AUTHORITY[&quot;EPSG&quot;,&quot;3855&quot;]]]</dd><dt><span>semi_major_axis :</span></dt><dd>6378137.0</dd><dt><span>semi_minor_axis :</span></dt><dd>6356752.314245179</dd><dt><span>inverse_flattening :</span></dt><dd>298.257223563</dd><dt><span>reference_ellipsoid_name :</span></dt><dd>WGS 84</dd><dt><span>longitude_of_prime_meridian :</span></dt><dd>0.0</dd><dt><span>prime_meridian_name :</span></dt><dd>Greenwich</dd><dt><span>geographic_crs_name :</span></dt><dd>WGS 84</dd><dt><span>horizontal_datum_name :</span></dt><dd>World Geodetic System 1984</dd><dt><span>grid_mapping_name :</span></dt><dd>latitude_longitude</dd><dt><span>geopotential_datum_name :</span></dt><dd>EGM2008 geoid</dd><dt><span>spatial_ref :</span></dt><dd>COMPD_CS[&quot;WGS 84 + EGM2008 height&quot;,GEOGCS[&quot;WGS 84&quot;,DATUM[&quot;WGS_1984&quot;,SPHEROID[&quot;WGS 84&quot;,6378137,298.257223563,AUTHORITY[&quot;EPSG&quot;,&quot;7030&quot;]],AUTHORITY[&quot;EPSG&quot;,&quot;6326&quot;]],PRIMEM[&quot;Greenwich&quot;,0,AUTHORITY[&quot;EPSG&quot;,&quot;8901&quot;]],UNIT[&quot;degree&quot;,0.0174532925199433,AUTHORITY[&quot;EPSG&quot;,&quot;9122&quot;]],AXIS[&quot;Latitude&quot;,NORTH],AXIS[&quot;Longitude&quot;,EAST],AUTHORITY[&quot;EPSG&quot;,&quot;4326&quot;]],VERT_CS[&quot;EGM2008 height&quot;,VERT_DATUM[&quot;EGM2008 geoid&quot;,2005,AUTHORITY[&quot;EPSG&quot;,&quot;1027&quot;]],UNIT[&quot;metre&quot;,1,AUTHORITY[&quot;EPSG&quot;,&quot;9001&quot;]],AXIS[&quot;Gravity-related height&quot;,UP],AUTHORITY[&quot;EPSG&quot;,&quot;3855&quot;]]]</dd><dt><span>GeoTransform :</span></dt><dd>-180.0 0.008333333333333333 0.0 90.0 0.0 -0.008333333333333333</dd></dl></div><div class='xr-var-data'><pre>array(0)</pre></div></li></ul></div></li><li class='xr-section-item'><input id='section-f0fcae1d-01b2-4434-8e90-82ab69270d22' class='xr-section-summary-in' type='checkbox'  ><label for='section-f0fcae1d-01b2-4434-8e90-82ab69270d22' class='xr-section-summary' >Indexes: <span>(3)</span></label><div class='xr-section-inline-details'></div><div class='xr-section-details'><ul class='xr-var-list'><li class='xr-var-item'><div class='xr-index-name'><div>band</div></div><div class='xr-index-preview'>PandasIndex</div><div></div><input id='index-8adee20e-1bca-4b1d-a08a-37ca41225cc8' class='xr-index-data-in' type='checkbox'/><label for='index-8adee20e-1bca-4b1d-a08a-37ca41225cc8' title='Show/Hide index repr'><svg class='icon xr-icon-database'><use xlink:href='#icon-database'></use></svg></label><div class='xr-index-data'><pre>PandasIndex(Index([1], dtype=&#x27;int64&#x27;, name=&#x27;band&#x27;))</pre></div></li><li class='xr-var-item'><div class='xr-index-name'><div>x</div></div><div class='xr-index-preview'>PandasIndex</div><div></div><input id='index-ac5485e1-5e06-4b9b-8745-27b3f3d2b12b' class='xr-index-data-in' type='checkbox'/><label for='index-ac5485e1-5e06-4b9b-8745-27b3f3d2b12b' title='Show/Hide index repr'><svg class='icon xr-icon-database'><use xlink:href='#icon-database'></use></svg></label><div class='xr-index-data'><pre>PandasIndex(Index([-179.99583333333334,           -179.9875, -179.97916666666666,\n",
       "       -179.97083333333333,           -179.9625, -179.95416666666668,\n",
       "       -179.94583333333333,           -179.9375, -179.92916666666667,\n",
       "       -179.92083333333335,\n",
       "       ...\n",
       "        179.92083333333335,  179.92916666666667,            179.9375,\n",
       "        179.94583333333333,  179.95416666666665,  179.96249999999998,\n",
       "         179.9708333333333,  179.97916666666669,            179.9875,\n",
       "        179.99583333333334],\n",
       "      dtype=&#x27;float64&#x27;, name=&#x27;x&#x27;, length=43200))</pre></div></li><li class='xr-var-item'><div class='xr-index-name'><div>y</div></div><div class='xr-index-preview'>PandasIndex</div><div></div><input id='index-7919d875-6d10-49a6-bd92-24d8ce0e3bee' class='xr-index-data-in' type='checkbox'/><label for='index-7919d875-6d10-49a6-bd92-24d8ce0e3bee' title='Show/Hide index repr'><svg class='icon xr-icon-database'><use xlink:href='#icon-database'></use></svg></label><div class='xr-index-data'><pre>PandasIndex(Index([ 89.99583333333334,            89.9875,  89.97916666666667,\n",
       "        89.97083333333333,            89.9625,  89.95416666666667,\n",
       "        89.94583333333334,            89.9375,  89.92916666666667,\n",
       "        89.92083333333333,\n",
       "       ...\n",
       "       -89.92083333333332, -89.92916666666667,           -89.9375,\n",
       "       -89.94583333333333, -89.95416666666665,           -89.9625,\n",
       "       -89.97083333333333, -89.97916666666666, -89.98749999999998,\n",
       "       -89.99583333333334],\n",
       "      dtype=&#x27;float64&#x27;, name=&#x27;y&#x27;, length=21600))</pre></div></li></ul></div></li><li class='xr-section-item'><input id='section-e03ff7a1-05c6-4922-825b-92bf3ded36a4' class='xr-section-summary-in' type='checkbox'  ><label for='section-e03ff7a1-05c6-4922-825b-92bf3ded36a4' class='xr-section-summary' >Attributes: <span>(10)</span></label><div class='xr-section-inline-details'></div><div class='xr-section-details'><dl class='xr-attrs'><dt><span>AREA_OR_POINT :</span></dt><dd>Area</dd><dt><span>node_offset :</span></dt><dd>1</dd><dt><span>TIFFTAG_COPYRIGHT :</span></dt><dd>DOC/NOAA/NESDIS/NCEI &gt; National Centers for Environmental Information, NESDIS, NOAA, U.S. Department of Commerce</dd><dt><span>TIFFTAG_DATETIME :</span></dt><dd>20220929123913</dd><dt><span>TIFFTAG_IMAGEDESCRIPTION :</span></dt><dd>Topography-Bathymetry; EGM2008 height</dd><dt><span>tos#node_offset :</span></dt><dd>1</dd><dt><span>_FillValue :</span></dt><dd>-99999.0</dd><dt><span>scale_factor :</span></dt><dd>1.0</dd><dt><span>add_offset :</span></dt><dd>0.0</dd><dt><span>units :</span></dt><dd>metre</dd></dl></div></li></ul></div></div>"
      ],
      "text/plain": [
       "<xarray.DataArray (band: 1, y: 21600, x: 43200)>\n",
       "[933120000 values with dtype=float32]\n",
       "Coordinates:\n",
       "  * band         (band) int64 1\n",
       "  * x            (x) float64 -180.0 -180.0 -180.0 -180.0 ... 180.0 180.0 180.0\n",
       "  * y            (y) float64 90.0 89.99 89.98 89.97 ... -89.98 -89.99 -90.0\n",
       "    spatial_ref  int64 0\n",
       "Attributes:\n",
       "    AREA_OR_POINT:             Area\n",
       "    node_offset:               1\n",
       "    TIFFTAG_COPYRIGHT:         DOC/NOAA/NESDIS/NCEI > National Centers for En...\n",
       "    TIFFTAG_DATETIME:          20220929123913\n",
       "    TIFFTAG_IMAGEDESCRIPTION:  Topography-Bathymetry; EGM2008 height\n",
       "    tos#node_offset:           1\n",
       "    _FillValue:                -99999.0\n",
       "    scale_factor:              1.0\n",
       "    add_offset:                0.0\n",
       "    units:                     metre"
      ]
     },
     "execution_count": 11,
     "metadata": {},
     "output_type": "execute_result"
    }
   ],
   "source": [
    "da"
   ]
  },
  {
   "cell_type": "code",
   "execution_count": 79,
   "id": "5bedcb7e-7cb9-47c5-93ba-ed7726ff1b27",
   "metadata": {
    "tags": []
   },
   "outputs": [],
   "source": [
    "# Coordinates as shown in the DEM file\n",
    "longitude_dem = da.x.values.astype(np.float32)\n",
    "latitude_dem = da.y.values.astype(np.float32)"
   ]
  },
  {
   "cell_type": "code",
   "execution_count": null,
   "id": "77519d9a-142b-4045-8d17-1761469e122c",
   "metadata": {},
   "outputs": [],
   "source": [
    "'''\n",
    "Add timeout, do not process all the lats/lons at once, store in zarr the partial results, run the rest\n",
    "'''"
   ]
  },
  {
   "cell_type": "code",
   "execution_count": 6,
   "id": "411a552d-f044-4677-b78a-c44c7cb76a0c",
   "metadata": {
    "tags": []
   },
   "outputs": [],
   "source": [
    "def timeout_decorator(seconds, timeout_message=\"Timeout\"):\n",
    "    def decorator(func):\n",
    "        def wrapper(*args, **kwargs):\n",
    "            try:\n",
    "                result = timeout(seconds)(func)(*args, **kwargs)\n",
    "                return result\n",
    "            except TimeoutError:\n",
    "                print(timeout_message)\n",
    "                return None\n",
    "\n",
    "        return wrapper\n",
    "\n",
    "    return decorator\n",
    "\n",
    "@timeout_decorator(seconds=4, timeout_message=\"Timeout occurred in process_location\")\n",
    "def _process_location(latlon, file_path):\n",
    "    start_time = time.time()    \n",
    "    try:\n",
    "        with rasterio.open(file_path) as dataset:\n",
    "            hor_izon = horizon(latlon, dataset, distance=1*KM, height=0, precision=1)\n",
    "    except TimeoutError:\n",
    "        print(f\"Timeout for location {latlon}: {time.time()-start_time} seconds\")\n",
    "        return None\n",
    "\n",
    "    sunsuns = sunrise_sunset_year(latlon, hor_izon, 2022, tz, 20)\n",
    "    sunsuns_array = np.array(sunsuns)\n",
    "    daylight_values = []\n",
    "    for i in range(365):\n",
    "        day, sunrise, sunset, allday = sunsuns[i]\n",
    "        if allday:\n",
    "            delta = 24\n",
    "        elif allday is None:\n",
    "            delta = sunset - sunrise\n",
    "            delta = delta.total_seconds() / 3600\n",
    "        else:\n",
    "            delta = 0\n",
    "        daylight_values.append(delta)\n",
    "\n",
    "    # daylight_values = np.where(sunsuns_array[:, 3] == True, 24, \n",
    "    #                        np.where(sunsuns_array[:, 3] is None, \n",
    "    #                                 0,\n",
    "    #                                 ((sunsuns_array[:, 2] - sunsuns_array[:, 1]).astype('timedelta64[s]')).astype(float) / 3600)\n",
    "    #                       )\n",
    "    end_time = time.time()\n",
    "    elapsed_time = end_time - start_time\n",
    "    print(f\"Execution time for location {latlon}: {elapsed_time} seconds\")\n",
    "\n",
    "    return daylight_values\n"
   ]
  },
  {
   "cell_type": "code",
   "execution_count": 153,
   "id": "2b958ba6-9bde-458b-bdf2-9c8b012a13f8",
   "metadata": {
    "tags": []
   },
   "outputs": [
    {
     "name": "stdout",
     "output_type": "stream",
     "text": [
      "0.01619267463684082\n",
      "2.1098456382751465\n"
     ]
    }
   ],
   "source": [
    "'''\n",
    "How long does it take to run a single coordinate\n",
    "'''\n",
    "with rasterio.open(file_path) as dataset:\n",
    "    start_time = time.time()\n",
    "    hor_izon = horizon((46.052361, 8.193722), dataset, distance=1*KM, height=0, precision=2)\n",
    "end_time = time.time()\n",
    "elapsed_time = end_time - start_time\n",
    "print(elapsed_time)\n",
    "start_time = time.time()\n",
    "sunsuns = sunrise_sunset_year((46.052361, 8.193722), hor_izon, 2022, tz, 20)\n",
    "end_time = time.time()\n",
    "elapsed_time = end_time - start_time\n",
    "print(elapsed_time)"
   ]
  },
  {
   "cell_type": "code",
   "execution_count": null,
   "id": "4e943b0a-6bf0-404d-b6d4-73f4aaadc7b7",
   "metadata": {},
   "outputs": [],
   "source": [
    "'''\n",
    "Coordinates of interest\n",
    "'''"
   ]
  },
  {
   "cell_type": "code",
   "execution_count": 16,
   "id": "b5e9557f-f1f2-414d-8064-ad3cef6c08d1",
   "metadata": {
    "tags": []
   },
   "outputs": [],
   "source": [
    "viganella_latlon = (46.052361, 8.193722)"
   ]
  },
  {
   "cell_type": "code",
   "execution_count": 20,
   "id": "d274100c-42d2-4aa9-af11-7139178b0717",
   "metadata": {
    "tags": []
   },
   "outputs": [
    {
     "name": "stdout",
     "output_type": "stream",
     "text": [
      "Execution time for location (46.052361, 8.193722): 8.489435195922852 seconds\n"
     ]
    }
   ],
   "source": [
    "viganella_daylight = _process_location(viganella_latlon, file_path)"
   ]
  },
  {
   "cell_type": "code",
   "execution_count": 145,
   "id": "db1f389e-5528-4947-8a6b-f27b46f91b95",
   "metadata": {
    "tags": []
   },
   "outputs": [],
   "source": [
    "iceland_latlon = (65.259845, -14.008089)"
   ]
  },
  {
   "cell_type": "code",
   "execution_count": 146,
   "id": "ee7746f5-2d84-496a-814c-8b7507724043",
   "metadata": {
    "tags": []
   },
   "outputs": [
    {
     "name": "stdout",
     "output_type": "stream",
     "text": [
      "Execution time for location (65.259845, -14.008089): 1.9741675853729248 seconds\n"
     ]
    }
   ],
   "source": [
    "iceland_daylight = _process_location(iceland_latlon, file_path)"
   ]
  },
  {
   "cell_type": "code",
   "execution_count": 7,
   "id": "89ed2dd0-f225-453f-9116-cbf477fa366c",
   "metadata": {
    "tags": []
   },
   "outputs": [],
   "source": [
    "nepal_latlon = (28.969749, 82.984592)"
   ]
  },
  {
   "cell_type": "code",
   "execution_count": 8,
   "id": "e8851ccf-7744-4a17-8180-c794a87cbe53",
   "metadata": {
    "tags": []
   },
   "outputs": [
    {
     "name": "stdout",
     "output_type": "stream",
     "text": [
      "Execution time for location (28.969749, 82.984592): 1.8502192497253418 seconds\n"
     ]
    }
   ],
   "source": [
    "nepal_daylight = _process_location(nepal_latlon, file_path)"
   ]
  },
  {
   "cell_type": "code",
   "execution_count": 32,
   "id": "011bb230-fd6e-4241-b466-4b42aebfa2da",
   "metadata": {
    "tags": []
   },
   "outputs": [],
   "source": [
    "nepal_daylight = np.array(nepal_daylight)"
   ]
  },
  {
   "cell_type": "code",
   "execution_count": 43,
   "id": "72e76574-5ef7-4c22-be9d-96b820cb0b85",
   "metadata": {
    "collapsed": true,
    "jupyter": {
     "outputs_hidden": true
    },
    "tags": []
   },
   "outputs": [
    {
     "name": "stdout",
     "output_type": "stream",
     "text": [
      "0  --- 10.18\n",
      "1  --- 10.19\n",
      "2  --- 10.2\n",
      "3  --- 10.2\n",
      "4  --- 10.21\n",
      "5  --- 10.23\n",
      "6  --- 10.24\n",
      "7  --- 10.25\n",
      "8  --- 10.26\n",
      "9  --- 10.27\n",
      "10  --- 10.28\n",
      "11  --- 10.3\n",
      "12  --- 10.31\n",
      "13  --- 10.33\n",
      "14  --- 10.35\n",
      "15  --- 10.36\n",
      "16  --- 10.38\n",
      "17  --- 10.4\n",
      "18  --- 10.41\n",
      "19  --- 10.43\n",
      "20  --- 10.45\n",
      "21  --- 10.47\n",
      "22  --- 10.49\n",
      "23  --- 10.51\n",
      "24  --- 10.53\n",
      "25  --- 10.55\n",
      "26  --- 10.57\n",
      "27  --- 10.59\n",
      "28  --- 10.62\n",
      "29  --- 10.64\n",
      "30  --- 10.66\n",
      "31  --- 10.69\n",
      "32  --- 10.71\n",
      "33  --- 10.74\n",
      "34  --- 10.76\n",
      "35  --- 10.78\n",
      "36  --- 10.81\n",
      "37  --- 10.83\n",
      "38  --- 10.85\n",
      "39  --- 10.88\n",
      "40  --- 10.91\n",
      "41  --- 10.93\n",
      "42  --- 10.96\n",
      "43  --- 10.98\n",
      "44  --- 11.01\n",
      "45  --- 11.03\n",
      "46  --- 11.07\n",
      "47  --- 11.09\n",
      "48  --- 11.12\n",
      "49  --- 11.14\n",
      "50  --- 11.18\n",
      "51  --- 11.2\n",
      "52  --- 11.23\n",
      "53  --- 11.25\n",
      "54  --- 11.28\n",
      "55  --- 11.31\n",
      "56  --- 11.34\n",
      "57  --- 11.37\n",
      "58  --- 11.4\n",
      "59  --- 11.43\n",
      "60  --- 11.45\n",
      "61  --- 11.48\n",
      "62  --- 11.51\n",
      "63  --- 11.54\n",
      "64  --- 11.56\n",
      "65  --- 11.59\n",
      "66  --- 11.63\n",
      "67  --- 11.66\n",
      "68  --- 11.69\n",
      "69  --- 11.72\n",
      "70  --- 11.75\n",
      "71  --- 11.78\n",
      "72  --- 11.8\n",
      "73  --- 11.83\n",
      "74  --- 11.86\n",
      "75  --- 11.89\n",
      "76  --- 11.92\n",
      "77  --- 11.95\n",
      "78  --- 11.98\n",
      "79  --- 12.0\n",
      "80  --- 12.03\n",
      "81  --- 12.06\n",
      "82  --- 12.09\n",
      "83  --- 12.12\n",
      "84  --- 12.15\n",
      "85  --- 12.18\n",
      "86  --- 12.21\n",
      "87  --- 12.24\n",
      "88  --- 12.27\n",
      "89  --- 12.3\n",
      "90  --- 12.32\n",
      "91  --- 12.35\n",
      "92  --- 12.38\n",
      "93  --- 12.41\n",
      "94  --- 12.44\n",
      "95  --- 12.47\n",
      "96  --- 12.5\n",
      "97  --- 12.52\n",
      "98  --- 12.55\n",
      "99  --- 12.58\n",
      "100  --- 12.6\n",
      "101  --- 12.63\n",
      "102  --- 12.66\n",
      "103  --- 12.69\n",
      "104  --- 12.72\n",
      "105  --- 12.74\n",
      "106  --- 12.77\n",
      "107  --- 12.8\n",
      "108  --- 12.82\n",
      "109  --- 12.85\n",
      "110  --- 23.99\n",
      "111  --- 24.0\n",
      "112  --- 24.0\n",
      "113  --- 24.0\n",
      "114  --- 24.0\n",
      "115  --- 24.0\n",
      "116  --- 24.0\n",
      "117  --- 24.0\n",
      "118  --- 24.0\n",
      "119  --- 24.0\n",
      "120  --- 24.0\n",
      "121  --- 24.0\n",
      "122  --- 24.0\n",
      "123  --- 24.0\n",
      "124  --- 24.0\n",
      "125  --- 24.0\n",
      "126  --- 24.0\n",
      "127  --- 24.0\n",
      "128  --- 24.0\n",
      "129  --- 24.0\n",
      "130  --- 24.0\n",
      "131  --- 24.0\n",
      "132  --- 24.0\n",
      "133  --- 24.0\n",
      "134  --- 24.0\n",
      "135  --- 24.0\n",
      "136  --- 24.0\n",
      "137  --- 24.0\n",
      "138  --- 24.0\n",
      "139  --- 24.0\n",
      "140  --- 24.0\n",
      "141  --- 24.0\n",
      "142  --- 24.0\n",
      "143  --- 24.0\n",
      "144  --- 24.0\n",
      "145  --- 24.0\n",
      "146  --- 24.0\n",
      "147  --- 24.0\n",
      "148  --- 24.0\n",
      "149  --- 24.0\n",
      "150  --- 24.0\n",
      "151  --- 24.0\n",
      "152  --- 24.0\n",
      "153  --- 24.0\n",
      "154  --- 24.0\n",
      "155  --- 24.0\n",
      "156  --- 24.0\n",
      "157  --- 24.0\n",
      "158  --- 24.0\n",
      "159  --- 24.0\n",
      "160  --- 24.0\n",
      "161  --- 24.0\n",
      "162  --- 24.0\n",
      "163  --- 24.0\n",
      "164  --- 24.0\n",
      "165  --- 24.0\n",
      "166  --- 24.0\n",
      "167  --- 24.0\n",
      "168  --- 24.0\n",
      "169  --- 24.0\n",
      "170  --- 24.0\n",
      "171  --- 24.0\n",
      "172  --- 24.0\n",
      "173  --- 24.0\n",
      "174  --- 24.0\n",
      "175  --- 24.0\n",
      "176  --- 24.0\n",
      "177  --- 24.0\n",
      "178  --- 24.0\n",
      "179  --- 24.0\n",
      "180  --- 24.0\n",
      "181  --- 24.0\n",
      "182  --- 24.0\n",
      "183  --- 24.0\n",
      "184  --- 24.0\n",
      "185  --- 24.0\n",
      "186  --- 24.0\n",
      "187  --- 24.0\n",
      "188  --- 24.0\n",
      "189  --- 24.0\n",
      "190  --- 24.0\n",
      "191  --- 24.0\n",
      "192  --- 24.0\n",
      "193  --- 24.0\n",
      "194  --- 24.0\n",
      "195  --- 24.0\n",
      "196  --- 24.0\n",
      "197  --- 24.0\n",
      "198  --- 24.0\n",
      "199  --- 24.0\n",
      "200  --- 24.0\n",
      "201  --- 24.0\n",
      "202  --- 24.0\n",
      "203  --- 24.0\n",
      "204  --- 24.0\n",
      "205  --- 24.0\n",
      "206  --- 24.0\n",
      "207  --- 24.0\n",
      "208  --- 24.0\n",
      "209  --- 24.0\n",
      "210  --- 24.0\n",
      "211  --- 24.0\n",
      "212  --- 24.0\n",
      "213  --- 24.0\n",
      "214  --- 24.0\n",
      "215  --- 24.0\n",
      "216  --- 24.0\n",
      "217  --- 24.0\n",
      "218  --- 24.0\n",
      "219  --- 24.0\n",
      "220  --- 24.0\n",
      "221  --- 24.0\n",
      "222  --- 24.0\n",
      "223  --- 24.0\n",
      "224  --- 13.09\n",
      "225  --- 13.07\n",
      "226  --- 13.04\n",
      "227  --- 13.02\n",
      "228  --- 13.0\n",
      "229  --- 12.98\n",
      "230  --- 12.95\n",
      "231  --- 12.92\n",
      "232  --- 12.9\n",
      "233  --- 12.87\n",
      "234  --- 12.84\n",
      "235  --- 12.81\n",
      "236  --- 12.8\n",
      "237  --- 12.77\n",
      "238  --- 12.74\n",
      "239  --- 12.71\n",
      "240  --- 12.68\n",
      "241  --- 12.65\n",
      "242  --- 12.63\n",
      "243  --- 12.61\n",
      "244  --- 12.58\n",
      "245  --- 12.55\n",
      "246  --- 12.52\n",
      "247  --- 12.49\n",
      "248  --- 12.46\n",
      "249  --- 12.44\n",
      "250  --- 12.41\n",
      "251  --- 12.38\n",
      "252  --- 12.35\n",
      "253  --- 12.32\n",
      "254  --- 12.29\n",
      "255  --- 12.27\n",
      "256  --- 12.24\n",
      "257  --- 12.21\n",
      "258  --- 12.18\n",
      "259  --- 12.15\n",
      "260  --- 12.12\n",
      "261  --- 12.1\n",
      "262  --- 12.07\n",
      "263  --- 12.04\n",
      "264  --- 12.01\n",
      "265  --- 11.98\n",
      "266  --- 11.95\n",
      "267  --- 11.92\n",
      "268  --- 11.9\n",
      "269  --- 11.87\n",
      "270  --- 11.84\n",
      "271  --- 11.81\n",
      "272  --- 11.78\n",
      "273  --- 11.75\n",
      "274  --- 11.72\n",
      "275  --- 11.69\n",
      "276  --- 11.66\n",
      "277  --- 11.64\n",
      "278  --- 11.61\n",
      "279  --- 11.58\n",
      "280  --- 11.55\n",
      "281  --- 11.52\n",
      "282  --- 11.5\n",
      "283  --- 11.47\n",
      "284  --- 11.44\n",
      "285  --- 11.41\n",
      "286  --- 11.38\n",
      "287  --- 11.35\n",
      "288  --- 11.33\n",
      "289  --- 11.3\n",
      "290  --- 11.27\n",
      "291  --- 11.25\n",
      "292  --- 11.22\n",
      "293  --- 11.18\n",
      "294  --- 11.16\n",
      "295  --- 11.13\n",
      "296  --- 11.1\n",
      "297  --- 11.08\n",
      "298  --- 11.05\n",
      "299  --- 11.03\n",
      "300  --- 11.0\n",
      "301  --- 10.97\n",
      "302  --- 10.95\n",
      "303  --- 10.92\n",
      "304  --- 10.9\n",
      "305  --- 10.87\n",
      "306  --- 10.84\n",
      "307  --- 10.82\n",
      "308  --- 10.8\n",
      "309  --- 10.77\n",
      "310  --- 10.75\n",
      "311  --- 10.73\n",
      "312  --- 10.71\n",
      "313  --- 10.68\n",
      "314  --- 10.66\n",
      "315  --- 10.64\n",
      "316  --- 10.61\n",
      "317  --- 10.59\n",
      "318  --- 10.57\n",
      "319  --- 10.54\n",
      "320  --- 10.53\n",
      "321  --- 10.51\n",
      "322  --- 10.48\n",
      "323  --- 10.47\n",
      "324  --- 10.45\n",
      "325  --- 10.43\n",
      "326  --- 10.41\n",
      "327  --- 10.39\n",
      "328  --- 10.38\n",
      "329  --- 10.36\n",
      "330  --- 10.34\n",
      "331  --- 10.33\n",
      "332  --- 10.32\n",
      "333  --- 10.3\n",
      "334  --- 10.28\n",
      "335  --- 10.27\n",
      "336  --- 10.26\n",
      "337  --- 10.25\n",
      "338  --- 10.24\n",
      "339  --- 10.23\n",
      "340  --- 10.22\n",
      "341  --- 10.2\n",
      "342  --- 10.2\n",
      "343  --- 10.19\n",
      "344  --- 10.18\n",
      "345  --- 10.18\n",
      "346  --- 10.17\n",
      "347  --- 10.16\n",
      "348  --- 10.15\n",
      "349  --- 10.15\n",
      "350  --- 10.14\n",
      "351  --- 10.14\n",
      "352  --- 10.15\n",
      "353  --- 10.15\n",
      "354  --- 10.14\n",
      "355  --- 10.14\n",
      "356  --- 10.14\n",
      "357  --- 10.14\n",
      "358  --- 10.15\n",
      "359  --- 10.15\n",
      "360  --- 10.15\n",
      "361  --- 10.16\n",
      "362  --- 10.16\n",
      "363  --- 10.16\n",
      "364  --- 10.17\n"
     ]
    }
   ],
   "source": [
    "for idx, d in enumerate(nepal_daylight):\n",
    "    print(f'{idx}  --- {d}')"
   ]
  },
  {
   "cell_type": "code",
   "execution_count": 45,
   "id": "2b2b031e-7221-41ca-999f-d1798dbdfcc9",
   "metadata": {
    "tags": []
   },
   "outputs": [
    {
     "data": {
      "text/plain": [
       "array([23.99])"
      ]
     },
     "execution_count": 45,
     "metadata": {},
     "output_type": "execute_result"
    }
   ],
   "source": [
    "nepal_daylight[110:224][nepal_daylight[110:224] < 24] #Apr19-Ago11"
   ]
  },
  {
   "cell_type": "code",
   "execution_count": 22,
   "id": "6941e0e6-0bf2-4fe7-8085-dec51040dace",
   "metadata": {
    "tags": []
   },
   "outputs": [],
   "source": [
    "ran_latlon = (46, 6)"
   ]
  },
  {
   "cell_type": "code",
   "execution_count": 23,
   "id": "2ba24967-6aee-40d6-8c73-b7031f12f289",
   "metadata": {
    "tags": []
   },
   "outputs": [
    {
     "name": "stdout",
     "output_type": "stream",
     "text": [
      "Execution time for location (46, 6): 8.63064455986023 seconds\n"
     ]
    }
   ],
   "source": [
    "ran_daylight = _process_location(ran_latlon, file_path)"
   ]
  },
  {
   "cell_type": "code",
   "execution_count": 9,
   "id": "cf2fe3b4-896f-49a4-9204-87dbcd0326f5",
   "metadata": {
    "tags": []
   },
   "outputs": [
    {
     "data": {
      "text/plain": [
       "Text(0.5, 1.0, 'Daylight hours in , considering topology')"
      ]
     },
     "execution_count": 9,
     "metadata": {},
     "output_type": "execute_result"
    },
    {
     "data": {
      "image/png": "[encoded data removed]",
      "text/plain": [
       "<Figure size 640x480 with 1 Axes>"
      ]
     },
     "metadata": {},
     "output_type": "display_data"
    }
   ],
   "source": [
    "plt.plot(range(365), nepal_daylight)\n",
    "plt.xlabel('Days')\n",
    "plt.ylabel('Daylight hours')\n",
    "plt.title('Daylight hours in , considering topology')"
   ]
  },
  {
   "cell_type": "code",
   "execution_count": null,
   "id": "5f791e40-6a44-471f-ba85-e9b00a09d4e5",
   "metadata": {},
   "outputs": [],
   "source": [
    "'''\n",
    "How does execution time change with precision\n",
    "'''"
   ]
  },
  {
   "cell_type": "code",
   "execution_count": 14,
   "id": "d80197b9-2afb-4751-9c91-0779fe843966",
   "metadata": {
    "tags": []
   },
   "outputs": [
    {
     "data": {
      "text/plain": [
       "Text(0, 0.5, 'Elapsed time')"
      ]
     },
     "execution_count": 14,
     "metadata": {},
     "output_type": "execute_result"
    },
    {
     "data": {
      "image/png": "[encoded data removed]",
      "text/plain": [
       "<Figure size 640x480 with 1 Axes>"
      ]
     },
     "metadata": {},
     "output_type": "display_data"
    }
   ],
   "source": [
    "with rasterio.open(file_path) as dataset:\n",
    "    hor_izon = horizon((46.052361, 8.193722), dataset, distance=1*KM, height=0, precision=2)\n",
    "\n",
    "pres = np.arange(1, 51, 1)\n",
    "elapsed_time = np.zeros(len(pres))\n",
    "for idx, p in enumerate(pres):\n",
    "    start_time = time.time()\n",
    "    sunsuns = sunrise_sunset_year((46.052361, 8.193722), hor_izon, 2022, tz, p)\n",
    "    end_time = time.time()\n",
    "    elapsed_time[idx] = end_time - start_time\n",
    "plt.plot(pres, elapsed_time)\n",
    "plt.grid(True)\n",
    "plt.xlabel('Precision tppss sunsun')\n",
    "plt.ylabel('Elapsed time')"
   ]
  },
  {
   "cell_type": "code",
   "execution_count": null,
   "id": "ac8aebcd-e535-49d9-8027-f619a832a21f",
   "metadata": {},
   "outputs": [],
   "source": [
    "'''\n",
    "Run multiple latlons\n",
    "'''"
   ]
  },
  {
   "cell_type": "code",
   "execution_count": 44,
   "id": "0f19fab3-87ae-4711-b5eb-0282c8d42441",
   "metadata": {
    "tags": []
   },
   "outputs": [
    {
     "name": "stderr",
     "output_type": "stream",
     "text": [
      "0it [00:00, ?it/s]\n",
      "0it [00:00, ?it/s]\u001b[A\n",
      "1it [00:05,  5.20s/it]\u001b[A"
     ]
    },
    {
     "name": "stdout",
     "output_type": "stream",
     "text": [
      "Execution time for location (89.91250000000001, -179.9125): 5.197724103927612 seconds\n"
     ]
    },
    {
     "name": "stderr",
     "output_type": "stream",
     "text": [
      "\n",
      "2it [00:10,  5.19s/it]\u001b[A\n",
      "1it [00:10, 10.38s/it]\n",
      "0it [00:00, ?it/s]\u001b[A"
     ]
    },
    {
     "name": "stdout",
     "output_type": "stream",
     "text": [
      "Execution time for location (89.91250000000001, -179.90416666666667): 5.179153919219971 seconds\n"
     ]
    },
    {
     "name": "stderr",
     "output_type": "stream",
     "text": [
      "\n",
      "1it [00:05,  5.19s/it]\u001b[A"
     ]
    },
    {
     "name": "stdout",
     "output_type": "stream",
     "text": [
      "Execution time for location (89.90416666666667, -179.9125): 5.187174558639526 seconds\n"
     ]
    },
    {
     "name": "stderr",
     "output_type": "stream",
     "text": [
      "\n",
      "2it [00:10,  5.18s/it]\u001b[A\n",
      "2it [00:20, 10.38s/it]"
     ]
    },
    {
     "name": "stdout",
     "output_type": "stream",
     "text": [
      "Execution time for location (89.90416666666667, -179.90416666666667): 5.17703652381897 seconds\n"
     ]
    },
    {
     "name": "stderr",
     "output_type": "stream",
     "text": [
      "\n"
     ]
    }
   ],
   "source": [
    "# Define a checkpoint file path\n",
    "# checkpoint_file = 'checkpoint.npy'\n",
    "\n",
    "latitude = latitude_dem[:10]\n",
    "longitude = longitude_dem[:]\n",
    "# longitude = [6, 6, 6]\n",
    "# latitude = [46,46,-89.99]\n",
    "daylight = np.zeros((365, len(latitude), len(longitude)))\n",
    "for lat_idx, lat in tqdm(enumerate(latitude)):\n",
    "    for lon_idx, lon in tqdm(enumerate(longitude)):\n",
    "        latlon = (lat, lon)\n",
    "        result = _process_location(latlon, file_path)\n",
    "        if result is not None:\n",
    "            daylight[:, lat_idx, lon_idx] = result\n",
    "        else: \n",
    "            daylight[:, lat_idx, lon_idx] = np.nan\n",
    "        if lon_idx % 50 == 0:\n",
    "            # Save the array periodically during computation\n",
    "            # np.save(checkpoint_file, daylight)"
   ]
  },
  {
   "cell_type": "code",
   "execution_count": null,
   "id": "cd55b5f8-60c3-402e-a7b3-87b022a68ac1",
   "metadata": {},
   "outputs": [],
   "source": [
    "'''\n",
    "Run random latlons and save plots\n",
    "'''"
   ]
  },
  {
   "cell_type": "code",
   "execution_count": 11,
   "id": "c3dfcab5-d38b-42ff-8ea8-cc8df9d477d3",
   "metadata": {
    "tags": []
   },
   "outputs": [],
   "source": [
    "# Set the seed for reproducibility (optional)\n",
    "np.random.seed(42)\n",
    "\n",
    "latitude = np.random.uniform(low=-90, high=90, size=10)\n",
    "longitude = np.random.uniform(low=-180, high=180, size=10)\n",
    "\n",
    "output_folder = 'daylight_random_plots'\n",
    "import os\n",
    "os.makedirs(output_folder, exist_ok=True)"
   ]
  },
  {
   "cell_type": "code",
   "execution_count": 13,
   "id": "aa63d214-345b-42b5-908e-15d26eb22e09",
   "metadata": {
    "tags": []
   },
   "outputs": [
    {
     "name": "stderr",
     "output_type": "stream",
     "text": [
      "0it [00:00, ?it/s]\n",
      "0it [00:00, ?it/s]\u001b[A\n",
      "1it [00:01,  1.92s/it]\u001b[A"
     ]
    },
    {
     "name": "stdout",
     "output_type": "stream",
     "text": [
      "Execution time for location (-22.58277860747475, -172.58958205351112): 1.7948293685913086 seconds\n"
     ]
    },
    {
     "name": "stderr",
     "output_type": "stream",
     "text": [
      "\n",
      "2it [00:03,  1.92s/it]\u001b[A"
     ]
    },
    {
     "name": "stdout",
     "output_type": "stream",
     "text": [
      "Execution time for location (-22.58277860747475, 169.16754677831796): 1.774048089981079 seconds\n"
     ]
    },
    {
     "name": "stderr",
     "output_type": "stream",
     "text": [
      "\n",
      "3it [00:05,  1.92s/it]\u001b[A"
     ]
    },
    {
     "name": "stdout",
     "output_type": "stream",
     "text": [
      "Execution time for location (-22.58277860747475, 119.67935068815183): 1.8016941547393799 seconds\n"
     ]
    },
    {
     "name": "stderr",
     "output_type": "stream",
     "text": [
      "\n",
      "4it [00:07,  1.91s/it]\u001b[A"
     ]
    },
    {
     "name": "stdout",
     "output_type": "stream",
     "text": [
      "Execution time for location (-22.58277860747475, -103.55792015582058): 1.770899772644043 seconds\n"
     ]
    },
    {
     "name": "stderr",
     "output_type": "stream",
     "text": [
      "\n",
      "5it [00:09,  1.91s/it]\u001b[A"
     ]
    },
    {
     "name": "stdout",
     "output_type": "stream",
     "text": [
      "Execution time for location (-22.58277860747475, -114.54301180544378): 1.784820556640625 seconds\n"
     ]
    },
    {
     "name": "stderr",
     "output_type": "stream",
     "text": [
      "\n",
      "6it [00:11,  1.91s/it]\u001b[A"
     ]
    },
    {
     "name": "stdout",
     "output_type": "stream",
     "text": [
      "Execution time for location (-22.58277860747475, -113.97437645276382): 1.7666561603546143 seconds\n"
     ]
    },
    {
     "name": "stderr",
     "output_type": "stream",
     "text": [
      "\n",
      "7it [00:13,  1.91s/it]\u001b[A"
     ]
    },
    {
     "name": "stdout",
     "output_type": "stream",
     "text": [
      "Execution time for location (-22.58277860747475, -70.47279253456642): 1.7702887058258057 seconds\n"
     ]
    },
    {
     "name": "stderr",
     "output_type": "stream",
     "text": [
      "\n",
      "8it [00:15,  1.91s/it]\u001b[A"
     ]
    },
    {
     "name": "stdout",
     "output_type": "stream",
     "text": [
      "Execution time for location (-22.58277860747475, 8.912315387605616): 1.785815715789795 seconds\n"
     ]
    },
    {
     "name": "stderr",
     "output_type": "stream",
     "text": [
      "\n",
      "9it [00:17,  1.91s/it]\u001b[A"
     ]
    },
    {
     "name": "stdout",
     "output_type": "stream",
     "text": [
      "Execution time for location (-22.58277860747475, -24.499793288838333): 1.7827446460723877 seconds\n"
     ]
    },
    {
     "name": "stderr",
     "output_type": "stream",
     "text": [
      "\n",
      "10it [00:19,  1.91s/it]\u001b[A\n",
      "1it [00:19, 19.12s/it]\n",
      "0it [00:00, ?it/s]\u001b[A"
     ]
    },
    {
     "name": "stdout",
     "output_type": "stream",
     "text": [
      "Execution time for location (-22.58277860747475, -75.1575095287049): 1.795764684677124 seconds\n",
      "Execution time for location (81.12857515378491, -172.58958205351112): 1.778824806213379 seconds\n"
     ]
    },
    {
     "name": "stderr",
     "output_type": "stream",
     "text": [
      "\n",
      "1it [00:01,  2.00s/it]\u001b[A\n",
      "2it [00:03,  1.98s/it]\u001b[A"
     ]
    },
    {
     "name": "stdout",
     "output_type": "stream",
     "text": [
      "Execution time for location (81.12857515378491, 169.16754677831796): 1.7968575954437256 seconds\n"
     ]
    },
    {
     "name": "stderr",
     "output_type": "stream",
     "text": [
      "\n",
      "3it [00:05,  1.96s/it]\u001b[A"
     ]
    },
    {
     "name": "stdout",
     "output_type": "stream",
     "text": [
      "Execution time for location (81.12857515378491, 119.67935068815183): 1.7916240692138672 seconds\n"
     ]
    },
    {
     "name": "stderr",
     "output_type": "stream",
     "text": [
      "\n",
      "4it [00:07,  1.95s/it]\u001b[A"
     ]
    },
    {
     "name": "stdout",
     "output_type": "stream",
     "text": [
      "Execution time for location (81.12857515378491, -103.55792015582058): 1.7840123176574707 seconds\n"
     ]
    },
    {
     "name": "stderr",
     "output_type": "stream",
     "text": [
      "\n",
      "5it [00:09,  1.94s/it]\u001b[A"
     ]
    },
    {
     "name": "stdout",
     "output_type": "stream",
     "text": [
      "Execution time for location (81.12857515378491, -114.54301180544378): 1.7942619323730469 seconds\n"
     ]
    },
    {
     "name": "stderr",
     "output_type": "stream",
     "text": [
      "\n",
      "6it [00:11,  1.93s/it]\u001b[A"
     ]
    },
    {
     "name": "stdout",
     "output_type": "stream",
     "text": [
      "Execution time for location (81.12857515378491, -113.97437645276382): 1.7739429473876953 seconds\n"
     ]
    },
    {
     "name": "stderr",
     "output_type": "stream",
     "text": [
      "\n",
      "7it [00:13,  1.92s/it]\u001b[A"
     ]
    },
    {
     "name": "stdout",
     "output_type": "stream",
     "text": [
      "Execution time for location (81.12857515378491, -70.47279253456642): 1.7834980487823486 seconds\n"
     ]
    },
    {
     "name": "stderr",
     "output_type": "stream",
     "text": [
      "\n",
      "8it [00:15,  1.92s/it]\u001b[A"
     ]
    },
    {
     "name": "stdout",
     "output_type": "stream",
     "text": [
      "Execution time for location (81.12857515378491, 8.912315387605616): 1.7688686847686768 seconds\n"
     ]
    },
    {
     "name": "stderr",
     "output_type": "stream",
     "text": [
      "\n",
      "9it [00:17,  1.92s/it]\u001b[A"
     ]
    },
    {
     "name": "stdout",
     "output_type": "stream",
     "text": [
      "Execution time for location (81.12857515378491, -24.499793288838333): 1.7833645343780518 seconds\n"
     ]
    },
    {
     "name": "stderr",
     "output_type": "stream",
     "text": [
      "\n",
      "10it [00:19,  1.92s/it]\u001b[A\n",
      "2it [00:38, 19.16s/it]\n",
      "0it [00:00, ?it/s]\u001b[A"
     ]
    },
    {
     "name": "stdout",
     "output_type": "stream",
     "text": [
      "Execution time for location (81.12857515378491, -75.1575095287049): 1.7854466438293457 seconds\n"
     ]
    },
    {
     "name": "stderr",
     "output_type": "stream",
     "text": [
      "\n",
      "1it [00:01,  1.90s/it]\u001b[A"
     ]
    },
    {
     "name": "stdout",
     "output_type": "stream",
     "text": [
      "Execution time for location (41.75890952605292, -172.58958205351112): 1.7761526107788086 seconds\n"
     ]
    },
    {
     "name": "stderr",
     "output_type": "stream",
     "text": [
      "\n",
      "2it [00:03,  1.90s/it]\u001b[A"
     ]
    },
    {
     "name": "stdout",
     "output_type": "stream",
     "text": [
      "Execution time for location (41.75890952605292, 169.16754677831796): 1.7722578048706055 seconds\n"
     ]
    },
    {
     "name": "stderr",
     "output_type": "stream",
     "text": [
      "\n",
      "3it [00:05,  1.91s/it]\u001b[A"
     ]
    },
    {
     "name": "stdout",
     "output_type": "stream",
     "text": [
      "Execution time for location (41.75890952605292, 119.67935068815183): 1.7928855419158936 seconds\n"
     ]
    },
    {
     "name": "stderr",
     "output_type": "stream",
     "text": [
      "\n",
      "4it [00:07,  1.91s/it]\u001b[A"
     ]
    },
    {
     "name": "stdout",
     "output_type": "stream",
     "text": [
      "Execution time for location (41.75890952605292, -103.55792015582058): 1.7720861434936523 seconds\n"
     ]
    },
    {
     "name": "stderr",
     "output_type": "stream",
     "text": [
      "\n",
      "5it [00:09,  1.92s/it]\u001b[A"
     ]
    },
    {
     "name": "stdout",
     "output_type": "stream",
     "text": [
      "Execution time for location (41.75890952605292, -114.54301180544378): 1.7923481464385986 seconds\n"
     ]
    },
    {
     "name": "stderr",
     "output_type": "stream",
     "text": [
      "\n",
      "6it [00:11,  1.91s/it]\u001b[A"
     ]
    },
    {
     "name": "stdout",
     "output_type": "stream",
     "text": [
      "Execution time for location (41.75890952605292, -113.97437645276382): 1.7698347568511963 seconds\n"
     ]
    },
    {
     "name": "stderr",
     "output_type": "stream",
     "text": [
      "\n",
      "7it [00:13,  1.92s/it]\u001b[A"
     ]
    },
    {
     "name": "stdout",
     "output_type": "stream",
     "text": [
      "Execution time for location (41.75890952605292, -70.47279253456642): 1.7822015285491943 seconds\n"
     ]
    },
    {
     "name": "stderr",
     "output_type": "stream",
     "text": [
      "\n",
      "8it [00:15,  1.91s/it]\u001b[A"
     ]
    },
    {
     "name": "stdout",
     "output_type": "stream",
     "text": [
      "Execution time for location (41.75890952605292, 8.912315387605616): 1.7768328189849854 seconds\n"
     ]
    },
    {
     "name": "stderr",
     "output_type": "stream",
     "text": [
      "\n",
      "9it [00:17,  1.92s/it]\u001b[A"
     ]
    },
    {
     "name": "stdout",
     "output_type": "stream",
     "text": [
      "Execution time for location (41.75890952605292, -24.499793288838333): 1.7898881435394287 seconds\n"
     ]
    },
    {
     "name": "stderr",
     "output_type": "stream",
     "text": [
      "\n",
      "10it [00:19,  1.92s/it]\u001b[A\n",
      "3it [00:57, 19.16s/it]\n",
      "0it [00:00, ?it/s]\u001b[A"
     ]
    },
    {
     "name": "stdout",
     "output_type": "stream",
     "text": [
      "Execution time for location (41.75890952605292, -75.1575095287049): 1.7774648666381836 seconds\n"
     ]
    },
    {
     "name": "stderr",
     "output_type": "stream",
     "text": [
      "\n",
      "1it [00:01,  1.90s/it]\u001b[A"
     ]
    },
    {
     "name": "stdout",
     "output_type": "stream",
     "text": [
      "Execution time for location (17.758527155466595, -172.58958205351112): 1.775317907333374 seconds\n"
     ]
    },
    {
     "name": "stderr",
     "output_type": "stream",
     "text": [
      "\n",
      "2it [00:03,  1.90s/it]\u001b[A"
     ]
    },
    {
     "name": "stdout",
     "output_type": "stream",
     "text": [
      "Execution time for location (17.758527155466595, 169.16754677831796): 1.7718496322631836 seconds\n"
     ]
    },
    {
     "name": "stderr",
     "output_type": "stream",
     "text": [
      "\n",
      "3it [00:05,  1.90s/it]\u001b[A"
     ]
    },
    {
     "name": "stdout",
     "output_type": "stream",
     "text": [
      "Execution time for location (17.758527155466595, 119.67935068815183): 1.7797026634216309 seconds\n"
     ]
    },
    {
     "name": "stderr",
     "output_type": "stream",
     "text": [
      "\n",
      "4it [00:07,  1.91s/it]\u001b[A"
     ]
    },
    {
     "name": "stdout",
     "output_type": "stream",
     "text": [
      "Execution time for location (17.758527155466595, -103.55792015582058): 1.7979106903076172 seconds\n"
     ]
    },
    {
     "name": "stderr",
     "output_type": "stream",
     "text": [
      "\n",
      "5it [00:09,  1.91s/it]\u001b[A"
     ]
    },
    {
     "name": "stdout",
     "output_type": "stream",
     "text": [
      "Execution time for location (17.758527155466595, -114.54301180544378): 1.7972218990325928 seconds\n"
     ]
    },
    {
     "name": "stderr",
     "output_type": "stream",
     "text": [
      "\n",
      "6it [00:11,  1.91s/it]\u001b[A"
     ]
    },
    {
     "name": "stdout",
     "output_type": "stream",
     "text": [
      "Execution time for location (17.758527155466595, -113.97437645276382): 1.7836918830871582 seconds\n"
     ]
    },
    {
     "name": "stderr",
     "output_type": "stream",
     "text": [
      "\n",
      "7it [00:13,  1.91s/it]\u001b[A"
     ]
    },
    {
     "name": "stdout",
     "output_type": "stream",
     "text": [
      "Execution time for location (17.758527155466595, -70.47279253456642): 1.7790346145629883 seconds\n"
     ]
    },
    {
     "name": "stderr",
     "output_type": "stream",
     "text": [
      "\n",
      "8it [00:15,  1.91s/it]\u001b[A"
     ]
    },
    {
     "name": "stdout",
     "output_type": "stream",
     "text": [
      "Execution time for location (17.758527155466595, 8.912315387605616): 1.7763745784759521 seconds\n"
     ]
    },
    {
     "name": "stderr",
     "output_type": "stream",
     "text": [
      "\n",
      "9it [00:17,  1.91s/it]\u001b[A"
     ]
    },
    {
     "name": "stdout",
     "output_type": "stream",
     "text": [
      "Execution time for location (17.758527155466595, -24.499793288838333): 1.7852907180786133 seconds\n"
     ]
    },
    {
     "name": "stderr",
     "output_type": "stream",
     "text": [
      "\n",
      "10it [00:19,  1.91s/it]\u001b[A\n",
      "4it [01:16, 19.14s/it]\n",
      "0it [00:00, ?it/s]\u001b[A"
     ]
    },
    {
     "name": "stdout",
     "output_type": "stream",
     "text": [
      "Execution time for location (17.758527155466595, -75.1575095287049): 1.7771706581115723 seconds\n"
     ]
    },
    {
     "name": "stderr",
     "output_type": "stream",
     "text": [
      "\n",
      "1it [00:01,  1.89s/it]\u001b[A"
     ]
    },
    {
     "name": "stdout",
     "output_type": "stream",
     "text": [
      "Execution time for location (-61.916644720361425, -172.58958205351112): 1.7754895687103271 seconds\n"
     ]
    },
    {
     "name": "stderr",
     "output_type": "stream",
     "text": [
      "\n",
      "2it [00:03,  1.90s/it]\u001b[A"
     ]
    },
    {
     "name": "stdout",
     "output_type": "stream",
     "text": [
      "Execution time for location (-61.916644720361425, 169.16754677831796): 1.7817180156707764 seconds\n"
     ]
    },
    {
     "name": "stderr",
     "output_type": "stream",
     "text": [
      "\n",
      "3it [00:05,  1.90s/it]\u001b[A"
     ]
    },
    {
     "name": "stdout",
     "output_type": "stream",
     "text": [
      "Execution time for location (-61.916644720361425, 119.67935068815183): 1.772747278213501 seconds\n"
     ]
    },
    {
     "name": "stderr",
     "output_type": "stream",
     "text": [
      "\n",
      "4it [00:07,  1.90s/it]\u001b[A"
     ]
    },
    {
     "name": "stdout",
     "output_type": "stream",
     "text": [
      "Execution time for location (-61.916644720361425, -103.55792015582058): 1.7762484550476074 seconds\n"
     ]
    },
    {
     "name": "stderr",
     "output_type": "stream",
     "text": [
      "\n",
      "5it [00:09,  1.91s/it]\u001b[A"
     ]
    },
    {
     "name": "stdout",
     "output_type": "stream",
     "text": [
      "Execution time for location (-61.916644720361425, -114.54301180544378): 1.7708187103271484 seconds\n",
      "Execution time for location (-61.916644720361425, -113.97437645276382): 1.7916288375854492 seconds\n"
     ]
    },
    {
     "name": "stderr",
     "output_type": "stream",
     "text": [
      "\n",
      "6it [00:11,  1.94s/it]\u001b[A\n",
      "7it [00:13,  1.94s/it]\u001b[A"
     ]
    },
    {
     "name": "stdout",
     "output_type": "stream",
     "text": [
      "Execution time for location (-61.916644720361425, -70.47279253456642): 1.7848656177520752 seconds\n"
     ]
    },
    {
     "name": "stderr",
     "output_type": "stream",
     "text": [
      "\n",
      "8it [00:15,  1.94s/it]\u001b[A"
     ]
    },
    {
     "name": "stdout",
     "output_type": "stream",
     "text": [
      "Execution time for location (-61.916644720361425, 8.912315387605616): 1.7964980602264404 seconds\n"
     ]
    },
    {
     "name": "stderr",
     "output_type": "stream",
     "text": [
      "\n",
      "9it [00:17,  1.93s/it]\u001b[A"
     ]
    },
    {
     "name": "stdout",
     "output_type": "stream",
     "text": [
      "Execution time for location (-61.916644720361425, -24.499793288838333): 1.7733700275421143 seconds\n"
     ]
    },
    {
     "name": "stderr",
     "output_type": "stream",
     "text": [
      "\n",
      "10it [00:19,  1.93s/it]\u001b[A\n",
      "5it [01:35, 19.17s/it]\n",
      "0it [00:00, ?it/s]\u001b[A"
     ]
    },
    {
     "name": "stdout",
     "output_type": "stream",
     "text": [
      "Execution time for location (-61.916644720361425, -75.1575095287049): 1.767989158630371 seconds\n"
     ]
    },
    {
     "name": "stderr",
     "output_type": "stream",
     "text": [
      "\n",
      "1it [00:01,  1.89s/it]\u001b[A"
     ]
    },
    {
     "name": "stdout",
     "output_type": "stream",
     "text": [
      "Execution time for location (-61.92098633948352, -172.58958205351112): 1.7695505619049072 seconds\n"
     ]
    },
    {
     "name": "stderr",
     "output_type": "stream",
     "text": [
      "\n",
      "2it [00:03,  1.90s/it]\u001b[A"
     ]
    },
    {
     "name": "stdout",
     "output_type": "stream",
     "text": [
      "Execution time for location (-61.92098633948352, 169.16754677831796): 1.7850289344787598 seconds\n"
     ]
    },
    {
     "name": "stderr",
     "output_type": "stream",
     "text": [
      "\n",
      "3it [00:05,  1.90s/it]\u001b[A"
     ]
    },
    {
     "name": "stdout",
     "output_type": "stream",
     "text": [
      "Execution time for location (-61.92098633948352, 119.67935068815183): 1.7846972942352295 seconds\n"
     ]
    },
    {
     "name": "stderr",
     "output_type": "stream",
     "text": [
      "\n",
      "4it [00:07,  1.91s/it]\u001b[A"
     ]
    },
    {
     "name": "stdout",
     "output_type": "stream",
     "text": [
      "Execution time for location (-61.92098633948352, -103.55792015582058): 1.7806997299194336 seconds\n"
     ]
    },
    {
     "name": "stderr",
     "output_type": "stream",
     "text": [
      "\n",
      "5it [00:09,  1.92s/it]\u001b[A"
     ]
    },
    {
     "name": "stdout",
     "output_type": "stream",
     "text": [
      "Execution time for location (-61.92098633948352, -114.54301180544378): 1.7975339889526367 seconds\n"
     ]
    },
    {
     "name": "stderr",
     "output_type": "stream",
     "text": [
      "\n",
      "6it [00:11,  1.92s/it]\u001b[A"
     ]
    },
    {
     "name": "stdout",
     "output_type": "stream",
     "text": [
      "Execution time for location (-61.92098633948352, -113.97437645276382): 1.7797513008117676 seconds\n"
     ]
    },
    {
     "name": "stderr",
     "output_type": "stream",
     "text": [
      "\n",
      "7it [00:13,  1.92s/it]\u001b[A"
     ]
    },
    {
     "name": "stdout",
     "output_type": "stream",
     "text": [
      "Execution time for location (-61.92098633948352, -70.47279253456642): 1.7760109901428223 seconds\n"
     ]
    },
    {
     "name": "stderr",
     "output_type": "stream",
     "text": [
      "\n",
      "8it [00:15,  1.92s/it]\u001b[A"
     ]
    },
    {
     "name": "stdout",
     "output_type": "stream",
     "text": [
      "Execution time for location (-61.92098633948352, 8.912315387605616): 1.7853262424468994 seconds\n"
     ]
    },
    {
     "name": "stderr",
     "output_type": "stream",
     "text": [
      "\n",
      "9it [00:17,  1.92s/it]\u001b[A"
     ]
    },
    {
     "name": "stdout",
     "output_type": "stream",
     "text": [
      "Execution time for location (-61.92098633948352, -24.499793288838333): 1.7744982242584229 seconds\n"
     ]
    },
    {
     "name": "stderr",
     "output_type": "stream",
     "text": [
      "\n",
      "10it [00:19,  1.92s/it]\u001b[A\n",
      "6it [01:55, 19.17s/it]\n",
      "0it [00:00, ?it/s]\u001b[A"
     ]
    },
    {
     "name": "stdout",
     "output_type": "stream",
     "text": [
      "Execution time for location (-61.92098633948352, -75.1575095287049): 1.7798659801483154 seconds\n"
     ]
    },
    {
     "name": "stderr",
     "output_type": "stream",
     "text": [
      "\n",
      "1it [00:01,  1.92s/it]\u001b[A"
     ]
    },
    {
     "name": "stdout",
     "output_type": "stream",
     "text": [
      "Execution time for location (-79.5449498097241, -172.58958205351112): 1.7887966632843018 seconds\n"
     ]
    },
    {
     "name": "stderr",
     "output_type": "stream",
     "text": [
      "\n",
      "2it [00:03,  1.92s/it]\u001b[A"
     ]
    },
    {
     "name": "stdout",
     "output_type": "stream",
     "text": [
      "Execution time for location (-79.5449498097241, 169.16754677831796): 1.7825541496276855 seconds\n"
     ]
    },
    {
     "name": "stderr",
     "output_type": "stream",
     "text": [
      "\n",
      "3it [00:05,  1.92s/it]\u001b[A"
     ]
    },
    {
     "name": "stdout",
     "output_type": "stream",
     "text": [
      "Execution time for location (-79.5449498097241, 119.67935068815183): 1.7863247394561768 seconds\n"
     ]
    },
    {
     "name": "stderr",
     "output_type": "stream",
     "text": [
      "\n",
      "4it [00:07,  1.92s/it]\u001b[A"
     ]
    },
    {
     "name": "stdout",
     "output_type": "stream",
     "text": [
      "Execution time for location (-79.5449498097241, -103.55792015582058): 1.7871179580688477 seconds\n"
     ]
    },
    {
     "name": "stderr",
     "output_type": "stream",
     "text": [
      "\n",
      "5it [00:09,  1.92s/it]\u001b[A"
     ]
    },
    {
     "name": "stdout",
     "output_type": "stream",
     "text": [
      "Execution time for location (-79.5449498097241, -114.54301180544378): 1.785370111465454 seconds\n"
     ]
    },
    {
     "name": "stderr",
     "output_type": "stream",
     "text": [
      "\n",
      "6it [00:11,  1.91s/it]\u001b[A"
     ]
    },
    {
     "name": "stdout",
     "output_type": "stream",
     "text": [
      "Execution time for location (-79.5449498097241, -113.97437645276382): 1.778663158416748 seconds\n"
     ]
    },
    {
     "name": "stderr",
     "output_type": "stream",
     "text": [
      "\n",
      "7it [00:13,  1.91s/it]\u001b[A"
     ]
    },
    {
     "name": "stdout",
     "output_type": "stream",
     "text": [
      "Execution time for location (-79.5449498097241, -70.47279253456642): 1.7697782516479492 seconds\n"
     ]
    },
    {
     "name": "stderr",
     "output_type": "stream",
     "text": [
      "\n",
      "8it [00:15,  1.91s/it]\u001b[A"
     ]
    },
    {
     "name": "stdout",
     "output_type": "stream",
     "text": [
      "Execution time for location (-79.5449498097241, 8.912315387605616): 1.7646589279174805 seconds\n"
     ]
    },
    {
     "name": "stderr",
     "output_type": "stream",
     "text": [
      "\n",
      "9it [00:17,  1.91s/it]\u001b[A"
     ]
    },
    {
     "name": "stdout",
     "output_type": "stream",
     "text": [
      "Execution time for location (-79.5449498097241, -24.499793288838333): 1.7780935764312744 seconds\n"
     ]
    },
    {
     "name": "stderr",
     "output_type": "stream",
     "text": [
      "\n",
      "10it [00:19,  1.91s/it]\u001b[A\n",
      "7it [02:14, 19.15s/it]\n",
      "0it [00:00, ?it/s]\u001b[A"
     ]
    },
    {
     "name": "stdout",
     "output_type": "stream",
     "text": [
      "Execution time for location (-79.5449498097241, -75.1575095287049): 1.7786998748779297 seconds\n"
     ]
    },
    {
     "name": "stderr",
     "output_type": "stream",
     "text": [
      "\n",
      "1it [00:01,  1.91s/it]\u001b[A"
     ]
    },
    {
     "name": "stdout",
     "output_type": "stream",
     "text": [
      "Execution time for location (65.91170623948832, -172.58958205351112): 1.7906031608581543 seconds\n"
     ]
    },
    {
     "name": "stderr",
     "output_type": "stream",
     "text": [
      "\n",
      "2it [00:03,  1.91s/it]\u001b[A"
     ]
    },
    {
     "name": "stdout",
     "output_type": "stream",
     "text": [
      "Execution time for location (65.91170623948832, 169.16754677831796): 1.7809240818023682 seconds\n"
     ]
    },
    {
     "name": "stderr",
     "output_type": "stream",
     "text": [
      "\n",
      "3it [00:05,  1.92s/it]\u001b[A"
     ]
    },
    {
     "name": "stdout",
     "output_type": "stream",
     "text": [
      "Execution time for location (65.91170623948832, 119.67935068815183): 1.794539213180542 seconds\n"
     ]
    },
    {
     "name": "stderr",
     "output_type": "stream",
     "text": [
      "\n",
      "4it [00:07,  1.91s/it]\u001b[A"
     ]
    },
    {
     "name": "stdout",
     "output_type": "stream",
     "text": [
      "Execution time for location (65.91170623948832, -103.55792015582058): 1.7731258869171143 seconds\n"
     ]
    },
    {
     "name": "stderr",
     "output_type": "stream",
     "text": [
      "\n",
      "5it [00:09,  1.91s/it]\u001b[A"
     ]
    },
    {
     "name": "stdout",
     "output_type": "stream",
     "text": [
      "Execution time for location (65.91170623948832, -114.54301180544378): 1.7749934196472168 seconds\n"
     ]
    },
    {
     "name": "stderr",
     "output_type": "stream",
     "text": [
      "\n",
      "6it [00:11,  1.91s/it]\u001b[A"
     ]
    },
    {
     "name": "stdout",
     "output_type": "stream",
     "text": [
      "Execution time for location (65.91170623948832, -113.97437645276382): 1.7721762657165527 seconds\n"
     ]
    },
    {
     "name": "stderr",
     "output_type": "stream",
     "text": [
      "\n",
      "7it [00:13,  1.91s/it]\u001b[A"
     ]
    },
    {
     "name": "stdout",
     "output_type": "stream",
     "text": [
      "Execution time for location (65.91170623948832, -70.47279253456642): 1.7761859893798828 seconds\n"
     ]
    },
    {
     "name": "stderr",
     "output_type": "stream",
     "text": [
      "\n",
      "8it [00:15,  1.91s/it]\u001b[A"
     ]
    },
    {
     "name": "stdout",
     "output_type": "stream",
     "text": [
      "Execution time for location (65.91170623948832, 8.912315387605616): 1.7833278179168701 seconds\n"
     ]
    },
    {
     "name": "stderr",
     "output_type": "stream",
     "text": [
      "\n",
      "9it [00:17,  1.91s/it]\u001b[A"
     ]
    },
    {
     "name": "stdout",
     "output_type": "stream",
     "text": [
      "Execution time for location (65.91170623948832, -24.499793288838333): 1.7876214981079102 seconds\n"
     ]
    },
    {
     "name": "stderr",
     "output_type": "stream",
     "text": [
      "\n",
      "10it [00:19,  1.91s/it]\u001b[A\n",
      "8it [02:33, 19.14s/it]\n",
      "0it [00:00, ?it/s]\u001b[A"
     ]
    },
    {
     "name": "stdout",
     "output_type": "stream",
     "text": [
      "Execution time for location (65.91170623948832, -75.1575095287049): 1.789804220199585 seconds\n",
      "Execution time for location (18.20070211377758, -172.58958205351112): 1.772779941558838 seconds\n"
     ]
    },
    {
     "name": "stderr",
     "output_type": "stream",
     "text": [
      "\n",
      "1it [00:01,  1.99s/it]\u001b[A\n",
      "2it [00:03,  1.97s/it]\u001b[A"
     ]
    },
    {
     "name": "stdout",
     "output_type": "stream",
     "text": [
      "Execution time for location (18.20070211377758, 169.16754677831796): 1.779700756072998 seconds\n"
     ]
    },
    {
     "name": "stderr",
     "output_type": "stream",
     "text": [
      "\n",
      "3it [00:05,  1.95s/it]\u001b[A"
     ]
    },
    {
     "name": "stdout",
     "output_type": "stream",
     "text": [
      "Execution time for location (18.20070211377758, 119.67935068815183): 1.7822909355163574 seconds\n"
     ]
    },
    {
     "name": "stderr",
     "output_type": "stream",
     "text": [
      "\n",
      "4it [00:07,  1.94s/it]\u001b[A"
     ]
    },
    {
     "name": "stdout",
     "output_type": "stream",
     "text": [
      "Execution time for location (18.20070211377758, -103.55792015582058): 1.7953801155090332 seconds\n"
     ]
    },
    {
     "name": "stderr",
     "output_type": "stream",
     "text": [
      "\n",
      "5it [00:09,  1.93s/it]\u001b[A"
     ]
    },
    {
     "name": "stdout",
     "output_type": "stream",
     "text": [
      "Execution time for location (18.20070211377758, -114.54301180544378): 1.7800071239471436 seconds\n"
     ]
    },
    {
     "name": "stderr",
     "output_type": "stream",
     "text": [
      "\n",
      "6it [00:11,  1.93s/it]\u001b[A"
     ]
    },
    {
     "name": "stdout",
     "output_type": "stream",
     "text": [
      "Execution time for location (18.20070211377758, -113.97437645276382): 1.7953245639801025 seconds\n"
     ]
    },
    {
     "name": "stderr",
     "output_type": "stream",
     "text": [
      "\n",
      "7it [00:13,  1.92s/it]\u001b[A"
     ]
    },
    {
     "name": "stdout",
     "output_type": "stream",
     "text": [
      "Execution time for location (18.20070211377758, -70.47279253456642): 1.7826390266418457 seconds\n"
     ]
    },
    {
     "name": "stderr",
     "output_type": "stream",
     "text": [
      "\n",
      "8it [00:15,  1.92s/it]\u001b[A"
     ]
    },
    {
     "name": "stdout",
     "output_type": "stream",
     "text": [
      "Execution time for location (18.20070211377758, 8.912315387605616): 1.7737410068511963 seconds\n"
     ]
    },
    {
     "name": "stderr",
     "output_type": "stream",
     "text": [
      "\n",
      "9it [00:17,  1.92s/it]\u001b[A"
     ]
    },
    {
     "name": "stdout",
     "output_type": "stream",
     "text": [
      "Execution time for location (18.20070211377758, -24.499793288838333): 1.7933175563812256 seconds\n"
     ]
    },
    {
     "name": "stderr",
     "output_type": "stream",
     "text": [
      "\n",
      "10it [00:19,  1.92s/it]\u001b[A\n",
      "9it [02:52, 19.16s/it]\n",
      "0it [00:00, ?it/s]\u001b[A"
     ]
    },
    {
     "name": "stdout",
     "output_type": "stream",
     "text": [
      "Execution time for location (18.20070211377758, -75.1575095287049): 1.7855796813964844 seconds\n"
     ]
    },
    {
     "name": "stderr",
     "output_type": "stream",
     "text": [
      "\n",
      "1it [00:01,  1.93s/it]\u001b[A"
     ]
    },
    {
     "name": "stdout",
     "output_type": "stream",
     "text": [
      "Execution time for location (37.45306400328819, -172.58958205351112): 1.8000473976135254 seconds\n"
     ]
    },
    {
     "name": "stderr",
     "output_type": "stream",
     "text": [
      "\n",
      "2it [00:03,  1.92s/it]\u001b[A"
     ]
    },
    {
     "name": "stdout",
     "output_type": "stream",
     "text": [
      "Execution time for location (37.45306400328819, 169.16754677831796): 1.7891972064971924 seconds\n"
     ]
    },
    {
     "name": "stderr",
     "output_type": "stream",
     "text": [
      "\n",
      "3it [00:05,  1.92s/it]\u001b[A"
     ]
    },
    {
     "name": "stdout",
     "output_type": "stream",
     "text": [
      "Execution time for location (37.45306400328819, 119.67935068815183): 1.7815022468566895 seconds\n"
     ]
    },
    {
     "name": "stderr",
     "output_type": "stream",
     "text": [
      "\n",
      "4it [00:07,  1.92s/it]\u001b[A"
     ]
    },
    {
     "name": "stdout",
     "output_type": "stream",
     "text": [
      "Execution time for location (37.45306400328819, -103.55792015582058): 1.783552646636963 seconds\n"
     ]
    },
    {
     "name": "stderr",
     "output_type": "stream",
     "text": [
      "\n",
      "5it [00:09,  1.91s/it]\u001b[A"
     ]
    },
    {
     "name": "stdout",
     "output_type": "stream",
     "text": [
      "Execution time for location (37.45306400328819, -114.54301180544378): 1.780029058456421 seconds\n"
     ]
    },
    {
     "name": "stderr",
     "output_type": "stream",
     "text": [
      "\n",
      "6it [00:11,  1.91s/it]\u001b[A"
     ]
    },
    {
     "name": "stdout",
     "output_type": "stream",
     "text": [
      "Execution time for location (37.45306400328819, -113.97437645276382): 1.7860119342803955 seconds\n"
     ]
    },
    {
     "name": "stderr",
     "output_type": "stream",
     "text": [
      "\n",
      "7it [00:13,  1.92s/it]\u001b[A"
     ]
    },
    {
     "name": "stdout",
     "output_type": "stream",
     "text": [
      "Execution time for location (37.45306400328819, -70.47279253456642): 1.799182415008545 seconds\n"
     ]
    },
    {
     "name": "stderr",
     "output_type": "stream",
     "text": [
      "\n",
      "8it [00:15,  1.91s/it]\u001b[A"
     ]
    },
    {
     "name": "stdout",
     "output_type": "stream",
     "text": [
      "Execution time for location (37.45306400328819, 8.912315387605616): 1.7730231285095215 seconds\n"
     ]
    },
    {
     "name": "stderr",
     "output_type": "stream",
     "text": [
      "\n",
      "9it [00:17,  1.91s/it]\u001b[A"
     ]
    },
    {
     "name": "stdout",
     "output_type": "stream",
     "text": [
      "Execution time for location (37.45306400328819, -24.499793288838333): 1.7676193714141846 seconds\n"
     ]
    },
    {
     "name": "stderr",
     "output_type": "stream",
     "text": [
      "\n",
      "10it [00:19,  1.91s/it]\u001b[A\n",
      "10it [03:11, 19.16s/it]"
     ]
    },
    {
     "name": "stdout",
     "output_type": "stream",
     "text": [
      "Execution time for location (37.45306400328819, -75.1575095287049): 1.787423849105835 seconds\n"
     ]
    },
    {
     "name": "stderr",
     "output_type": "stream",
     "text": [
      "\n"
     ]
    },
    {
     "data": {
      "text/plain": [
       "<Figure size 640x480 with 0 Axes>"
      ]
     },
     "metadata": {},
     "output_type": "display_data"
    }
   ],
   "source": [
    "for lat_idx, lat in tqdm(enumerate(latitude)):\n",
    "    for lon_idx, lon in tqdm(enumerate(longitude)):\n",
    "        latlon = (lat, lon)\n",
    "        result = _process_location(latlon, file_path)\n",
    "        plt.plot(range(365), result)\n",
    "        plt.xlabel('Days')\n",
    "        plt.ylabel('Daylight hours')\n",
    "        latlon = (round(lat, 2), round(lon, 2))\n",
    "        plt.title(f'Daylight hours in {latlon}, considering topology')\n",
    "        # plt.ylim(np.array(result).min(), 24) \n",
    "        plt.grid(True)\n",
    "        \n",
    "        filename = f\"plot_{lat_idx}_{lon_idx}.png\"\n",
    "        filepath = os.path.join(output_folder, filename)\n",
    "        plt.savefig(filepath)\n",
    "        \n",
    "        # Clear the current figure for the next iteration\n",
    "        plt.clf()"
   ]
  },
  {
   "cell_type": "code",
   "execution_count": null,
   "id": "7c6e67ca-3dd3-4563-8cf0-e57323ace4d6",
   "metadata": {
    "jupyter": {
     "source_hidden": true
    },
    "tags": []
   },
   "outputs": [],
   "source": [
    "'''\n",
    "Make zarrs\n",
    "How many coordinates should i run at once?\n",
    "PAUSED\n",
    "'''"
   ]
  },
  {
   "cell_type": "code",
   "execution_count": null,
   "id": "db50d613-989e-4b64-bd3d-ba610d8fe200",
   "metadata": {
    "jupyter": {
     "source_hidden": true
    },
    "tags": []
   },
   "outputs": [],
   "source": [
    "import boto3\n",
    "import s3fs\n",
    "import dask.array as da\n",
    "from botocore.exceptions import NoCredentialsError\n",
    "from config import S3_BUCKET#, MODELS_PATH"
   ]
  },
  {
   "cell_type": "code",
   "execution_count": null,
   "id": "17c12b50-5e9a-4793-88b7-9685987eac26",
   "metadata": {
    "jupyter": {
     "source_hidden": true
    },
    "tags": []
   },
   "outputs": [],
   "source": [
    "def create_sample_dset(lat_vals, lon_vals):\n",
    "    \"\"\"\n",
    "    creates the foundations of a dataset to then be filled by region\n",
    "    \"\"\"\n",
    "    \n",
    "    # Set up dimensions and coordinate values\n",
    "    #\n",
    "    \n",
    "    time_vals = np.array(range(365))\n",
    "\n",
    "    # Define shape and chunks\n",
    "    var_shape = (len(time_vals), len(lat_vals), len(lon_vals))\n",
    "    \n",
    "    # Create empty data_var\n",
    "    #\n",
    "    var_data = xr.DataArray(da.full(var_shape, np.nan, dtype=np.float32),\n",
    "                        coords=[time_vals, lat_vals, lon_vals], \n",
    "                        dims=['day', 'lat', 'lon'],\n",
    "                        name=var)\n",
    "\n",
    "    # Create dset\n",
    "    #\n",
    "    ds = xr.Dataset({var: var_data},\n",
    "                    coords={\n",
    "                        'lat': lat_vals,\n",
    "                        'lon': lon_vals,\n",
    "                        'time': time_vals\n",
    "                    })\n",
    "    return ds\n",
    "\n",
    "\n",
    "def file_exists(bucket_name, object_key):\n",
    "    try:\n",
    "        s3.Object(bucket_name, object_key + '/.zmetadata').load()\n",
    "    except NoCredentialsError:\n",
    "        # If credentials are not available, handle it\n",
    "        print(\"Credentials not available\")\n",
    "        return False\n",
    "    except Exception as e:\n",
    "        return False\n",
    "    return True"
   ]
  },
  {
   "cell_type": "code",
   "execution_count": null,
   "id": "92377bb8-9fec-4f2b-8c27-accab2e99192",
   "metadata": {
    "jupyter": {
     "source_hidden": true
    },
    "tags": []
   },
   "outputs": [],
   "source": [
    "## Declare vars\n",
    "#\n",
    "var = 'ssrd'\n",
    "scenario = 'historical'\n",
    "\n",
    "s3_path_target = f's3://climate-ai-data-science-datasets/explore_products/daylight_hours.zarr'\n",
    "data_type = 'float32'\n",
    "\n",
    "## AWS data\n",
    "#\n",
    "s3_client = boto3.client('s3')\n",
    "bucket_name = 'climate-ai-data-science-datasets'\n",
    "\n",
    "\n",
    "## Assert existing dataset\n",
    "#\n",
    "\n",
    "blob_name = s3_path_target.replace('s3://climate-ai-data-science-datasets/','')\n",
    "if file_exists(bucket_name, blob_name):\n",
    "    print(f\"The file {blob_name} exists in bucket {bucket_name}\")\n",
    "else:\n",
    "    print(f\"The file {blob_name} does not exist in bucket {bucket_name}, creating empty dataset\")\n",
    "    sample_dset = create_sample_dset(longitude_dem, latitude_dem)\n",
    "    sample_dset.to_zarr('s3://climate-ai-data-science-datasets/explore_products/daylight_hours_aprox.zarr', compute=False)\n",
    "    print(f\"Empty dataset created at {s3_path_target}\")"
   ]
  }
 ],
 "metadata": {
  "availableInstances": [
   {
    "_defaultOrder": 0,
    "_isFastLaunch": true,
    "category": "General purpose",
    "gpuNum": 0,
    "hideHardwareSpecs": false,
    "memoryGiB": 4,
    "name": "ml.t3.medium",
    "vcpuNum": 2
   },
   {
    "_defaultOrder": 1,
    "_isFastLaunch": false,
    "category": "General purpose",
    "gpuNum": 0,
    "hideHardwareSpecs": false,
    "memoryGiB": 8,
    "name": "ml.t3.large",
    "vcpuNum": 2
   },
   {
    "_defaultOrder": 2,
    "_isFastLaunch": false,
    "category": "General purpose",
    "gpuNum": 0,
    "hideHardwareSpecs": false,
    "memoryGiB": 16,
    "name": "ml.t3.xlarge",
    "vcpuNum": 4
   },
   {
    "_defaultOrder": 3,
    "_isFastLaunch": false,
    "category": "General purpose",
    "gpuNum": 0,
    "hideHardwareSpecs": false,
    "memoryGiB": 32,
    "name": "ml.t3.2xlarge",
    "vcpuNum": 8
   },
   {
    "_defaultOrder": 4,
    "_isFastLaunch": true,
    "category": "General purpose",
    "gpuNum": 0,
    "hideHardwareSpecs": false,
    "memoryGiB": 8,
    "name": "ml.m5.large",
    "vcpuNum": 2
   },
   {
    "_defaultOrder": 5,
    "_isFastLaunch": false,
    "category": "General purpose",
    "gpuNum": 0,
    "hideHardwareSpecs": false,
    "memoryGiB": 16,
    "name": "ml.m5.xlarge",
    "vcpuNum": 4
   },
   {
    "_defaultOrder": 6,
    "_isFastLaunch": false,
    "category": "General purpose",
    "gpuNum": 0,
    "hideHardwareSpecs": false,
    "memoryGiB": 32,
    "name": "ml.m5.2xlarge",
    "vcpuNum": 8
   },
   {
    "_defaultOrder": 7,
    "_isFastLaunch": false,
    "category": "General purpose",
    "gpuNum": 0,
    "hideHardwareSpecs": false,
    "memoryGiB": 64,
    "name": "ml.m5.4xlarge",
    "vcpuNum": 16
   },
   {
    "_defaultOrder": 8,
    "_isFastLaunch": false,
    "category": "General purpose",
    "gpuNum": 0,
    "hideHardwareSpecs": false,
    "memoryGiB": 128,
    "name": "ml.m5.8xlarge",
    "vcpuNum": 32
   },
   {
    "_defaultOrder": 9,
    "_isFastLaunch": false,
    "category": "General purpose",
    "gpuNum": 0,
    "hideHardwareSpecs": false,
    "memoryGiB": 192,
    "name": "ml.m5.12xlarge",
    "vcpuNum": 48
   },
   {
    "_defaultOrder": 10,
    "_isFastLaunch": false,
    "category": "General purpose",
    "gpuNum": 0,
    "hideHardwareSpecs": false,
    "memoryGiB": 256,
    "name": "ml.m5.16xlarge",
    "vcpuNum": 64
   },
   {
    "_defaultOrder": 11,
    "_isFastLaunch": false,
    "category": "General purpose",
    "gpuNum": 0,
    "hideHardwareSpecs": false,
    "memoryGiB": 384,
    "name": "ml.m5.24xlarge",
    "vcpuNum": 96
   },
   {
    "_defaultOrder": 12,
    "_isFastLaunch": false,
    "category": "General purpose",
    "gpuNum": 0,
    "hideHardwareSpecs": false,
    "memoryGiB": 8,
    "name": "ml.m5d.large",
    "vcpuNum": 2
   },
   {
    "_defaultOrder": 13,
    "_isFastLaunch": false,
    "category": "General purpose",
    "gpuNum": 0,
    "hideHardwareSpecs": false,
    "memoryGiB": 16,
    "name": "ml.m5d.xlarge",
    "vcpuNum": 4
   },
   {
    "_defaultOrder": 14,
    "_isFastLaunch": false,
    "category": "General purpose",
    "gpuNum": 0,
    "hideHardwareSpecs": false,
    "memoryGiB": 32,
    "name": "ml.m5d.2xlarge",
    "vcpuNum": 8
   },
   {
    "_defaultOrder": 15,
    "_isFastLaunch": false,
    "category": "General purpose",
    "gpuNum": 0,
    "hideHardwareSpecs": false,
    "memoryGiB": 64,
    "name": "ml.m5d.4xlarge",
    "vcpuNum": 16
   },
   {
    "_defaultOrder": 16,
    "_isFastLaunch": false,
    "category": "General purpose",
    "gpuNum": 0,
    "hideHardwareSpecs": false,
    "memoryGiB": 128,
    "name": "ml.m5d.8xlarge",
    "vcpuNum": 32
   },
   {
    "_defaultOrder": 17,
    "_isFastLaunch": false,
    "category": "General purpose",
    "gpuNum": 0,
    "hideHardwareSpecs": false,
    "memoryGiB": 192,
    "name": "ml.m5d.12xlarge",
    "vcpuNum": 48
   },
   {
    "_defaultOrder": 18,
    "_isFastLaunch": false,
    "category": "General purpose",
    "gpuNum": 0,
    "hideHardwareSpecs": false,
    "memoryGiB": 256,
    "name": "ml.m5d.16xlarge",
    "vcpuNum": 64
   },
   {
    "_defaultOrder": 19,
    "_isFastLaunch": false,
    "category": "General purpose",
    "gpuNum": 0,
    "hideHardwareSpecs": false,
    "memoryGiB": 384,
    "name": "ml.m5d.24xlarge",
    "vcpuNum": 96
   },
   {
    "_defaultOrder": 20,
    "_isFastLaunch": false,
    "category": "General purpose",
    "gpuNum": 0,
    "hideHardwareSpecs": true,
    "memoryGiB": 0,
    "name": "ml.geospatial.interactive",
    "supportedImageNames": [
     "sagemaker-geospatial-v1-0"
    ],
    "vcpuNum": 0
   },
   {
    "_defaultOrder": 21,
    "_isFastLaunch": true,
    "category": "Compute optimized",
    "gpuNum": 0,
    "hideHardwareSpecs": false,
    "memoryGiB": 4,
    "name": "ml.c5.large",
    "vcpuNum": 2
   },
   {
    "_defaultOrder": 22,
    "_isFastLaunch": false,
    "category": "Compute optimized",
    "gpuNum": 0,
    "hideHardwareSpecs": false,
    "memoryGiB": 8,
    "name": "ml.c5.xlarge",
    "vcpuNum": 4
   },
   {
    "_defaultOrder": 23,
    "_isFastLaunch": false,
    "category": "Compute optimized",
    "gpuNum": 0,
    "hideHardwareSpecs": false,
    "memoryGiB": 16,
    "name": "ml.c5.2xlarge",
    "vcpuNum": 8
   },
   {
    "_defaultOrder": 24,
    "_isFastLaunch": false,
    "category": "Compute optimized",
    "gpuNum": 0,
    "hideHardwareSpecs": false,
    "memoryGiB": 32,
    "name": "ml.c5.4xlarge",
    "vcpuNum": 16
   },
   {
    "_defaultOrder": 25,
    "_isFastLaunch": false,
    "category": "Compute optimized",
    "gpuNum": 0,
    "hideHardwareSpecs": false,
    "memoryGiB": 72,
    "name": "ml.c5.9xlarge",
    "vcpuNum": 36
   },
   {
    "_defaultOrder": 26,
    "_isFastLaunch": false,
    "category": "Compute optimized",
    "gpuNum": 0,
    "hideHardwareSpecs": false,
    "memoryGiB": 96,
    "name": "ml.c5.12xlarge",
    "vcpuNum": 48
   },
   {
    "_defaultOrder": 27,
    "_isFastLaunch": false,
    "category": "Compute optimized",
    "gpuNum": 0,
    "hideHardwareSpecs": false,
    "memoryGiB": 144,
    "name": "ml.c5.18xlarge",
    "vcpuNum": 72
   },
   {
    "_defaultOrder": 28,
    "_isFastLaunch": false,
    "category": "Compute optimized",
    "gpuNum": 0,
    "hideHardwareSpecs": false,
    "memoryGiB": 192,
    "name": "ml.c5.24xlarge",
    "vcpuNum": 96
   },
   {
    "_defaultOrder": 29,
    "_isFastLaunch": true,
    "category": "Accelerated computing",
    "gpuNum": 1,
    "hideHardwareSpecs": false,
    "memoryGiB": 16,
    "name": "ml.g4dn.xlarge",
    "vcpuNum": 4
   },
   {
    "_defaultOrder": 30,
    "_isFastLaunch": false,
    "category": "Accelerated computing",
    "gpuNum": 1,
    "hideHardwareSpecs": false,
    "memoryGiB": 32,
    "name": "ml.g4dn.2xlarge",
    "vcpuNum": 8
   },
   {
    "_defaultOrder": 31,
    "_isFastLaunch": false,
    "category": "Accelerated computing",
    "gpuNum": 1,
    "hideHardwareSpecs": false,
    "memoryGiB": 64,
    "name": "ml.g4dn.4xlarge",
    "vcpuNum": 16
   },
   {
    "_defaultOrder": 32,
    "_isFastLaunch": false,
    "category": "Accelerated computing",
    "gpuNum": 1,
    "hideHardwareSpecs": false,
    "memoryGiB": 128,
    "name": "ml.g4dn.8xlarge",
    "vcpuNum": 32
   },
   {
    "_defaultOrder": 33,
    "_isFastLaunch": false,
    "category": "Accelerated computing",
    "gpuNum": 4,
    "hideHardwareSpecs": false,
    "memoryGiB": 192,
    "name": "ml.g4dn.12xlarge",
    "vcpuNum": 48
   },
   {
    "_defaultOrder": 34,
    "_isFastLaunch": false,
    "category": "Accelerated computing",
    "gpuNum": 1,
    "hideHardwareSpecs": false,
    "memoryGiB": 256,
    "name": "ml.g4dn.16xlarge",
    "vcpuNum": 64
   },
   {
    "_defaultOrder": 35,
    "_isFastLaunch": false,
    "category": "Accelerated computing",
    "gpuNum": 1,
    "hideHardwareSpecs": false,
    "memoryGiB": 61,
    "name": "ml.p3.2xlarge",
    "vcpuNum": 8
   },
   {
    "_defaultOrder": 36,
    "_isFastLaunch": false,
    "category": "Accelerated computing",
    "gpuNum": 4,
    "hideHardwareSpecs": false,
    "memoryGiB": 244,
    "name": "ml.p3.8xlarge",
    "vcpuNum": 32
   },
   {
    "_defaultOrder": 37,
    "_isFastLaunch": false,
    "category": "Accelerated computing",
    "gpuNum": 8,
    "hideHardwareSpecs": false,
    "memoryGiB": 488,
    "name": "ml.p3.16xlarge",
    "vcpuNum": 64
   },
   {
    "_defaultOrder": 38,
    "_isFastLaunch": false,
    "category": "Accelerated computing",
    "gpuNum": 8,
    "hideHardwareSpecs": false,
    "memoryGiB": 768,
    "name": "ml.p3dn.24xlarge",
    "vcpuNum": 96
   },
   {
    "_defaultOrder": 39,
    "_isFastLaunch": false,
    "category": "Memory Optimized",
    "gpuNum": 0,
    "hideHardwareSpecs": false,
    "memoryGiB": 16,
    "name": "ml.r5.large",
    "vcpuNum": 2
   },
   {
    "_defaultOrder": 40,
    "_isFastLaunch": false,
    "category": "Memory Optimized",
    "gpuNum": 0,
    "hideHardwareSpecs": false,
    "memoryGiB": 32,
    "name": "ml.r5.xlarge",
    "vcpuNum": 4
   },
   {
    "_defaultOrder": 41,
    "_isFastLaunch": false,
    "category": "Memory Optimized",
    "gpuNum": 0,
    "hideHardwareSpecs": false,
    "memoryGiB": 64,
    "name": "ml.r5.2xlarge",
    "vcpuNum": 8
   },
   {
    "_defaultOrder": 42,
    "_isFastLaunch": false,
    "category": "Memory Optimized",
    "gpuNum": 0,
    "hideHardwareSpecs": false,
    "memoryGiB": 128,
    "name": "ml.r5.4xlarge",
    "vcpuNum": 16
   },
   {
    "_defaultOrder": 43,
    "_isFastLaunch": false,
    "category": "Memory Optimized",
    "gpuNum": 0,
    "hideHardwareSpecs": false,
    "memoryGiB": 256,
    "name": "ml.r5.8xlarge",
    "vcpuNum": 32
   },
   {
    "_defaultOrder": 44,
    "_isFastLaunch": false,
    "category": "Memory Optimized",
    "gpuNum": 0,
    "hideHardwareSpecs": false,
    "memoryGiB": 384,
    "name": "ml.r5.12xlarge",
    "vcpuNum": 48
   },
   {
    "_defaultOrder": 45,
    "_isFastLaunch": false,
    "category": "Memory Optimized",
    "gpuNum": 0,
    "hideHardwareSpecs": false,
    "memoryGiB": 512,
    "name": "ml.r5.16xlarge",
    "vcpuNum": 64
   },
   {
    "_defaultOrder": 46,
    "_isFastLaunch": false,
    "category": "Memory Optimized",
    "gpuNum": 0,
    "hideHardwareSpecs": false,
    "memoryGiB": 768,
    "name": "ml.r5.24xlarge",
    "vcpuNum": 96
   },
   {
    "_defaultOrder": 47,
    "_isFastLaunch": false,
    "category": "Accelerated computing",
    "gpuNum": 1,
    "hideHardwareSpecs": false,
    "memoryGiB": 16,
    "name": "ml.g5.xlarge",
    "vcpuNum": 4
   },
   {
    "_defaultOrder": 48,
    "_isFastLaunch": false,
    "category": "Accelerated computing",
    "gpuNum": 1,
    "hideHardwareSpecs": false,
    "memoryGiB": 32,
    "name": "ml.g5.2xlarge",
    "vcpuNum": 8
   },
   {
    "_defaultOrder": 49,
    "_isFastLaunch": false,
    "category": "Accelerated computing",
    "gpuNum": 1,
    "hideHardwareSpecs": false,
    "memoryGiB": 64,
    "name": "ml.g5.4xlarge",
    "vcpuNum": 16
   },
   {
    "_defaultOrder": 50,
    "_isFastLaunch": false,
    "category": "Accelerated computing",
    "gpuNum": 1,
    "hideHardwareSpecs": false,
    "memoryGiB": 128,
    "name": "ml.g5.8xlarge",
    "vcpuNum": 32
   },
   {
    "_defaultOrder": 51,
    "_isFastLaunch": false,
    "category": "Accelerated computing",
    "gpuNum": 1,
    "hideHardwareSpecs": false,
    "memoryGiB": 256,
    "name": "ml.g5.16xlarge",
    "vcpuNum": 64
   },
   {
    "_defaultOrder": 52,
    "_isFastLaunch": false,
    "category": "Accelerated computing",
    "gpuNum": 4,
    "hideHardwareSpecs": false,
    "memoryGiB": 192,
    "name": "ml.g5.12xlarge",
    "vcpuNum": 48
   },
   {
    "_defaultOrder": 53,
    "_isFastLaunch": false,
    "category": "Accelerated computing",
    "gpuNum": 4,
    "hideHardwareSpecs": false,
    "memoryGiB": 384,
    "name": "ml.g5.24xlarge",
    "vcpuNum": 96
   },
   {
    "_defaultOrder": 54,
    "_isFastLaunch": false,
    "category": "Accelerated computing",
    "gpuNum": 8,
    "hideHardwareSpecs": false,
    "memoryGiB": 768,
    "name": "ml.g5.48xlarge",
    "vcpuNum": 192
   },
   {
    "_defaultOrder": 55,
    "_isFastLaunch": false,
    "category": "Accelerated computing",
    "gpuNum": 8,
    "hideHardwareSpecs": false,
    "memoryGiB": 1152,
    "name": "ml.p4d.24xlarge",
    "vcpuNum": 96
   },
   {
    "_defaultOrder": 56,
    "_isFastLaunch": false,
    "category": "Accelerated computing",
    "gpuNum": 8,
    "hideHardwareSpecs": false,
    "memoryGiB": 1152,
    "name": "ml.p4de.24xlarge",
    "vcpuNum": 96
   },
   {
    "_defaultOrder": 57,
    "_isFastLaunch": false,
    "category": "Accelerated computing",
    "gpuNum": 0,
    "hideHardwareSpecs": false,
    "memoryGiB": 32,
    "name": "ml.trn1.2xlarge",
    "vcpuNum": 8
   },
   {
    "_defaultOrder": 58,
    "_isFastLaunch": false,
    "category": "Accelerated computing",
    "gpuNum": 0,
    "hideHardwareSpecs": false,
    "memoryGiB": 512,
    "name": "ml.trn1.32xlarge",
    "vcpuNum": 128
   },
   {
    "_defaultOrder": 59,
    "_isFastLaunch": false,
    "category": "Accelerated computing",
    "gpuNum": 0,
    "hideHardwareSpecs": false,
    "memoryGiB": 512,
    "name": "ml.trn1n.32xlarge",
    "vcpuNum": 128
   }
  ],
  "instance_type": "ml.g4dn.xlarge",
  "kernelspec": {
   "display_name": "dsenv (ds-python/3)",
   "language": "python",
   "name": "python3__SAGEMAKER_INTERNAL__arn:aws:sagemaker:us-east-2:672980278503:image-version/ds-python/3"
  },
  "language_info": {
   "codemirror_mode": {
    "name": "ipython",
    "version": 3
   },
   "file_extension": ".py",
   "mimetype": "text/x-python",
   "name": "python",
   "nbconvert_exporter": "python",
   "pygments_lexer": "ipython3",
   "version": "3.9.18"
  }
 },
 "nbformat": 4,
 "nbformat_minor": 5
}
